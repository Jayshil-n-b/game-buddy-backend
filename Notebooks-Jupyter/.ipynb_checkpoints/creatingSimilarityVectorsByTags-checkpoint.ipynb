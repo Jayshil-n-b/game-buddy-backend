{
 "cells": [
  {
   "cell_type": "code",
   "execution_count": 1,
   "id": "25298de9",
   "metadata": {},
   "outputs": [],
   "source": [
    "import numpy as np\n",
    "import pandas as pd"
   ]
  },
  {
   "cell_type": "code",
   "execution_count": 2,
   "id": "85c3fc9e",
   "metadata": {},
   "outputs": [],
   "source": [
    "gameData = pd.read_csv('steam.csv')"
   ]
  },
  {
   "cell_type": "code",
   "execution_count": 3,
   "id": "3b90ba76",
   "metadata": {},
   "outputs": [
    {
     "data": {
      "text/html": [
       "<div>\n",
       "<style scoped>\n",
       "    .dataframe tbody tr th:only-of-type {\n",
       "        vertical-align: middle;\n",
       "    }\n",
       "\n",
       "    .dataframe tbody tr th {\n",
       "        vertical-align: top;\n",
       "    }\n",
       "\n",
       "    .dataframe thead th {\n",
       "        text-align: right;\n",
       "    }\n",
       "</style>\n",
       "<table border=\"1\" class=\"dataframe\">\n",
       "  <thead>\n",
       "    <tr style=\"text-align: right;\">\n",
       "      <th></th>\n",
       "      <th>appid</th>\n",
       "      <th>name</th>\n",
       "      <th>release_date</th>\n",
       "      <th>english</th>\n",
       "      <th>developer</th>\n",
       "      <th>publisher</th>\n",
       "      <th>platforms</th>\n",
       "      <th>required_age</th>\n",
       "      <th>categories</th>\n",
       "      <th>genres</th>\n",
       "      <th>steamspy_tags</th>\n",
       "      <th>achievements</th>\n",
       "      <th>positive_ratings</th>\n",
       "      <th>negative_ratings</th>\n",
       "      <th>average_playtime</th>\n",
       "      <th>median_playtime</th>\n",
       "      <th>owners</th>\n",
       "      <th>price</th>\n",
       "    </tr>\n",
       "  </thead>\n",
       "  <tbody>\n",
       "    <tr>\n",
       "      <th>0</th>\n",
       "      <td>10</td>\n",
       "      <td>Counter-Strike</td>\n",
       "      <td>2000-11-01</td>\n",
       "      <td>1</td>\n",
       "      <td>Valve</td>\n",
       "      <td>Valve</td>\n",
       "      <td>windows;mac;linux</td>\n",
       "      <td>0</td>\n",
       "      <td>Multi-player;Online Multi-Player;Local Multi-P...</td>\n",
       "      <td>Action</td>\n",
       "      <td>Action;FPS;Multiplayer</td>\n",
       "      <td>0</td>\n",
       "      <td>124534</td>\n",
       "      <td>3339</td>\n",
       "      <td>17612</td>\n",
       "      <td>317</td>\n",
       "      <td>10000000-20000000</td>\n",
       "      <td>7.19</td>\n",
       "    </tr>\n",
       "    <tr>\n",
       "      <th>1</th>\n",
       "      <td>20</td>\n",
       "      <td>Team Fortress Classic</td>\n",
       "      <td>1999-04-01</td>\n",
       "      <td>1</td>\n",
       "      <td>Valve</td>\n",
       "      <td>Valve</td>\n",
       "      <td>windows;mac;linux</td>\n",
       "      <td>0</td>\n",
       "      <td>Multi-player;Online Multi-Player;Local Multi-P...</td>\n",
       "      <td>Action</td>\n",
       "      <td>Action;FPS;Multiplayer</td>\n",
       "      <td>0</td>\n",
       "      <td>3318</td>\n",
       "      <td>633</td>\n",
       "      <td>277</td>\n",
       "      <td>62</td>\n",
       "      <td>5000000-10000000</td>\n",
       "      <td>3.99</td>\n",
       "    </tr>\n",
       "  </tbody>\n",
       "</table>\n",
       "</div>"
      ],
      "text/plain": [
       "   appid                   name release_date  english developer publisher  \\\n",
       "0     10         Counter-Strike   2000-11-01        1     Valve     Valve   \n",
       "1     20  Team Fortress Classic   1999-04-01        1     Valve     Valve   \n",
       "\n",
       "           platforms  required_age  \\\n",
       "0  windows;mac;linux             0   \n",
       "1  windows;mac;linux             0   \n",
       "\n",
       "                                          categories  genres  \\\n",
       "0  Multi-player;Online Multi-Player;Local Multi-P...  Action   \n",
       "1  Multi-player;Online Multi-Player;Local Multi-P...  Action   \n",
       "\n",
       "            steamspy_tags  achievements  positive_ratings  negative_ratings  \\\n",
       "0  Action;FPS;Multiplayer             0            124534              3339   \n",
       "1  Action;FPS;Multiplayer             0              3318               633   \n",
       "\n",
       "   average_playtime  median_playtime             owners  price  \n",
       "0             17612              317  10000000-20000000   7.19  \n",
       "1               277               62   5000000-10000000   3.99  "
      ]
     },
     "execution_count": 3,
     "metadata": {},
     "output_type": "execute_result"
    }
   ],
   "source": [
    "gameData.head(2)"
   ]
  },
  {
   "cell_type": "code",
   "execution_count": 8,
   "id": "5ecdf4d1",
   "metadata": {},
   "outputs": [],
   "source": [
    "gameData.dropna(inplace=True)"
   ]
  },
  {
   "cell_type": "code",
   "execution_count": 9,
   "id": "32b88514",
   "metadata": {},
   "outputs": [
    {
     "data": {
      "text/plain": [
       "(27075, 21)"
      ]
     },
     "execution_count": 9,
     "metadata": {},
     "output_type": "execute_result"
    }
   ],
   "source": [
    "gameData.shape"
   ]
  },
  {
   "cell_type": "code",
   "execution_count": 10,
   "id": "72416c83",
   "metadata": {},
   "outputs": [
    {
     "data": {
      "text/plain": [
       "0"
      ]
     },
     "execution_count": 10,
     "metadata": {},
     "output_type": "execute_result"
    }
   ],
   "source": [
    "gameData.duplicated().sum()"
   ]
  },
  {
   "cell_type": "code",
   "execution_count": 11,
   "id": "76803541",
   "metadata": {},
   "outputs": [
    {
     "name": "stdout",
     "output_type": "stream",
     "text": [
      "<class 'pandas.core.frame.DataFrame'>\n",
      "Int64Index: 27075 entries, 0 to 27074\n",
      "Data columns (total 21 columns):\n",
      " #   Column                Non-Null Count  Dtype  \n",
      "---  ------                --------------  -----  \n",
      " 0   appid                 27075 non-null  int64  \n",
      " 1   name                  27075 non-null  object \n",
      " 2   release_date          27075 non-null  object \n",
      " 3   english               27075 non-null  int64  \n",
      " 4   developer             27075 non-null  object \n",
      " 5   publisher             27075 non-null  object \n",
      " 6   platforms             27075 non-null  object \n",
      " 7   required_age          27075 non-null  int64  \n",
      " 8   categories            27075 non-null  object \n",
      " 9   genres                27075 non-null  object \n",
      " 10  steamspy_tags         27075 non-null  object \n",
      " 11  achievements          27075 non-null  int64  \n",
      " 12  positive_ratings      27075 non-null  int64  \n",
      " 13  negative_ratings      27075 non-null  int64  \n",
      " 14  average_playtime      27075 non-null  int64  \n",
      " 15  median_playtime       27075 non-null  int64  \n",
      " 16  owners                27075 non-null  object \n",
      " 17  price                 27075 non-null  float64\n",
      " 18  detailed_description  27075 non-null  object \n",
      " 19  about_the_game        27075 non-null  object \n",
      " 20  short_description     27075 non-null  object \n",
      "dtypes: float64(1), int64(8), object(12)\n",
      "memory usage: 4.5+ MB\n"
     ]
    }
   ],
   "source": [
    "gameData.info()"
   ]
  },
  {
   "cell_type": "code",
   "execution_count": 12,
   "id": "87572883",
   "metadata": {},
   "outputs": [],
   "source": [
    "gameData = gameData[['appid', 'name', 'release_date', 'developer', 'categories', 'genres', 'steamspy_tags']]"
   ]
  },
  {
   "cell_type": "code",
   "execution_count": 15,
   "id": "8ad92d82",
   "metadata": {
    "scrolled": true
   },
   "outputs": [
    {
     "data": {
      "text/html": [
       "<div>\n",
       "<style scoped>\n",
       "    .dataframe tbody tr th:only-of-type {\n",
       "        vertical-align: middle;\n",
       "    }\n",
       "\n",
       "    .dataframe tbody tr th {\n",
       "        vertical-align: top;\n",
       "    }\n",
       "\n",
       "    .dataframe thead th {\n",
       "        text-align: right;\n",
       "    }\n",
       "</style>\n",
       "<table border=\"1\" class=\"dataframe\">\n",
       "  <thead>\n",
       "    <tr style=\"text-align: right;\">\n",
       "      <th></th>\n",
       "      <th>appid</th>\n",
       "      <th>name</th>\n",
       "      <th>release_date</th>\n",
       "      <th>developer</th>\n",
       "      <th>categories</th>\n",
       "      <th>genres</th>\n",
       "      <th>steamspy_tags</th>\n",
       "      <th>short_description</th>\n",
       "    </tr>\n",
       "  </thead>\n",
       "  <tbody>\n",
       "    <tr>\n",
       "      <th>0</th>\n",
       "      <td>10</td>\n",
       "      <td>Counter-Strike</td>\n",
       "      <td>2000</td>\n",
       "      <td>Valve</td>\n",
       "      <td>Multi-player;Online Multi-Player;Local Multi-P...</td>\n",
       "      <td>Action</td>\n",
       "      <td>Action;FPS;Multiplayer</td>\n",
       "      <td>Play the world's number 1 online action game. ...</td>\n",
       "    </tr>\n",
       "    <tr>\n",
       "      <th>1</th>\n",
       "      <td>20</td>\n",
       "      <td>Team Fortress Classic</td>\n",
       "      <td>1999</td>\n",
       "      <td>Valve</td>\n",
       "      <td>Multi-player;Online Multi-Player;Local Multi-P...</td>\n",
       "      <td>Action</td>\n",
       "      <td>Action;FPS;Multiplayer</td>\n",
       "      <td>One of the most popular online action games of...</td>\n",
       "    </tr>\n",
       "  </tbody>\n",
       "</table>\n",
       "</div>"
      ],
      "text/plain": [
       "   appid                   name release_date developer  \\\n",
       "0     10         Counter-Strike         2000     Valve   \n",
       "1     20  Team Fortress Classic         1999     Valve   \n",
       "\n",
       "                                          categories  genres  \\\n",
       "0  Multi-player;Online Multi-Player;Local Multi-P...  Action   \n",
       "1  Multi-player;Online Multi-Player;Local Multi-P...  Action   \n",
       "\n",
       "            steamspy_tags                                  short_description  \n",
       "0  Action;FPS;Multiplayer  Play the world's number 1 online action game. ...  \n",
       "1  Action;FPS;Multiplayer  One of the most popular online action games of...  "
      ]
     },
     "execution_count": 15,
     "metadata": {},
     "output_type": "execute_result"
    }
   ],
   "source": [
    "gameData.head(2)"
   ]
  },
  {
   "cell_type": "code",
   "execution_count": 16,
   "id": "8243c39a",
   "metadata": {},
   "outputs": [],
   "source": [
    "gameData.rename(columns = {'release_date':'release_year'}, inplace = True)"
   ]
  },
  {
   "cell_type": "code",
   "execution_count": 19,
   "id": "093b7ebc",
   "metadata": {},
   "outputs": [],
   "source": [
    "gameData['genres'] = gameData['genres'].apply(lambda x:x.split(';'))\n",
    "gameData['steamspy_tags'] = gameData['steamspy_tags'].apply(lambda x:x.split(';'))"
   ]
  },
  {
   "cell_type": "code",
   "execution_count": 20,
   "id": "3aa597d0",
   "metadata": {},
   "outputs": [],
   "source": [
    "gameData['categories'] = gameData['categories'].apply(lambda x:[i.replace(\" \", \"-\") for i in x])\n",
    "gameData['genres'] = gameData['genres'].apply(lambda x:[i.replace(\" \", \"-\") for i in x])\n",
    "gameData['steamspy_tags'] = gameData['steamspy_tags'].apply(lambda x:[i.replace(\" \", \"-\") for i in x])"
   ]
  },
  {
   "cell_type": "code",
   "execution_count": 21,
   "id": "5c0906e1",
   "metadata": {},
   "outputs": [],
   "source": [
    "gameData['short_description'] = gameData['short_description'].apply(lambda x:x.split())"
   ]
  },
  {
   "cell_type": "code",
   "execution_count": 22,
   "id": "5e326368",
   "metadata": {},
   "outputs": [],
   "source": [
    "gameData['categories'] = gameData['categories'].apply(lambda x:[i.lower() for i in x])\n",
    "gameData['genres'] = gameData['genres'].apply(lambda x:[i.lower() for i in x])\n",
    "gameData['steamspy_tags'] = gameData['steamspy_tags'].apply(lambda x:[i.lower() for i in x])"
   ]
  },
  {
   "cell_type": "code",
   "execution_count": 23,
   "id": "1490932b",
   "metadata": {},
   "outputs": [
    {
     "data": {
      "text/html": [
       "<div>\n",
       "<style scoped>\n",
       "    .dataframe tbody tr th:only-of-type {\n",
       "        vertical-align: middle;\n",
       "    }\n",
       "\n",
       "    .dataframe tbody tr th {\n",
       "        vertical-align: top;\n",
       "    }\n",
       "\n",
       "    .dataframe thead th {\n",
       "        text-align: right;\n",
       "    }\n",
       "</style>\n",
       "<table border=\"1\" class=\"dataframe\">\n",
       "  <thead>\n",
       "    <tr style=\"text-align: right;\">\n",
       "      <th></th>\n",
       "      <th>appid</th>\n",
       "      <th>name</th>\n",
       "      <th>release_year</th>\n",
       "      <th>developer</th>\n",
       "      <th>categories</th>\n",
       "      <th>genres</th>\n",
       "      <th>steamspy_tags</th>\n",
       "      <th>short_description</th>\n",
       "    </tr>\n",
       "  </thead>\n",
       "  <tbody>\n",
       "    <tr>\n",
       "      <th>0</th>\n",
       "      <td>10</td>\n",
       "      <td>Counter-Strike</td>\n",
       "      <td>2000</td>\n",
       "      <td>Valve</td>\n",
       "      <td>[multi-player, online-multi-player, local-mult...</td>\n",
       "      <td>[action]</td>\n",
       "      <td>[action, fps, multiplayer]</td>\n",
       "      <td>[Play, the, world's, number, 1, online, action...</td>\n",
       "    </tr>\n",
       "    <tr>\n",
       "      <th>1</th>\n",
       "      <td>20</td>\n",
       "      <td>Team Fortress Classic</td>\n",
       "      <td>1999</td>\n",
       "      <td>Valve</td>\n",
       "      <td>[multi-player, online-multi-player, local-mult...</td>\n",
       "      <td>[action]</td>\n",
       "      <td>[action, fps, multiplayer]</td>\n",
       "      <td>[One, of, the, most, popular, online, action, ...</td>\n",
       "    </tr>\n",
       "  </tbody>\n",
       "</table>\n",
       "</div>"
      ],
      "text/plain": [
       "   appid                   name release_year developer  \\\n",
       "0     10         Counter-Strike         2000     Valve   \n",
       "1     20  Team Fortress Classic         1999     Valve   \n",
       "\n",
       "                                          categories    genres  \\\n",
       "0  [multi-player, online-multi-player, local-mult...  [action]   \n",
       "1  [multi-player, online-multi-player, local-mult...  [action]   \n",
       "\n",
       "                steamspy_tags  \\\n",
       "0  [action, fps, multiplayer]   \n",
       "1  [action, fps, multiplayer]   \n",
       "\n",
       "                                   short_description  \n",
       "0  [Play, the, world's, number, 1, online, action...  \n",
       "1  [One, of, the, most, popular, online, action, ...  "
      ]
     },
     "execution_count": 23,
     "metadata": {},
     "output_type": "execute_result"
    }
   ],
   "source": [
    "gameData.head(2)"
   ]
  },
  {
   "cell_type": "code",
   "execution_count": 24,
   "id": "b7f1d227",
   "metadata": {},
   "outputs": [],
   "source": [
    "gameData['developer'] = gameData['developer'].apply(lambda x:x.lower())\n",
    "gameData['short_description'] = gameData['short_description'].apply(lambda x:[i.lower() for i in x])"
   ]
  },
  {
   "cell_type": "code",
   "execution_count": 25,
   "id": "3e2b8b8c",
   "metadata": {},
   "outputs": [
    {
     "data": {
      "text/html": [
       "<div>\n",
       "<style scoped>\n",
       "    .dataframe tbody tr th:only-of-type {\n",
       "        vertical-align: middle;\n",
       "    }\n",
       "\n",
       "    .dataframe tbody tr th {\n",
       "        vertical-align: top;\n",
       "    }\n",
       "\n",
       "    .dataframe thead th {\n",
       "        text-align: right;\n",
       "    }\n",
       "</style>\n",
       "<table border=\"1\" class=\"dataframe\">\n",
       "  <thead>\n",
       "    <tr style=\"text-align: right;\">\n",
       "      <th></th>\n",
       "      <th>appid</th>\n",
       "      <th>name</th>\n",
       "      <th>release_year</th>\n",
       "      <th>developer</th>\n",
       "      <th>categories</th>\n",
       "      <th>genres</th>\n",
       "      <th>steamspy_tags</th>\n",
       "      <th>short_description</th>\n",
       "    </tr>\n",
       "  </thead>\n",
       "  <tbody>\n",
       "    <tr>\n",
       "      <th>0</th>\n",
       "      <td>10</td>\n",
       "      <td>Counter-Strike</td>\n",
       "      <td>2000</td>\n",
       "      <td>valve</td>\n",
       "      <td>[multi-player, online-multi-player, local-mult...</td>\n",
       "      <td>[action]</td>\n",
       "      <td>[action, fps, multiplayer]</td>\n",
       "      <td>[play, the, world's, number, 1, online, action...</td>\n",
       "    </tr>\n",
       "    <tr>\n",
       "      <th>1</th>\n",
       "      <td>20</td>\n",
       "      <td>Team Fortress Classic</td>\n",
       "      <td>1999</td>\n",
       "      <td>valve</td>\n",
       "      <td>[multi-player, online-multi-player, local-mult...</td>\n",
       "      <td>[action]</td>\n",
       "      <td>[action, fps, multiplayer]</td>\n",
       "      <td>[one, of, the, most, popular, online, action, ...</td>\n",
       "    </tr>\n",
       "  </tbody>\n",
       "</table>\n",
       "</div>"
      ],
      "text/plain": [
       "   appid                   name release_year developer  \\\n",
       "0     10         Counter-Strike         2000     valve   \n",
       "1     20  Team Fortress Classic         1999     valve   \n",
       "\n",
       "                                          categories    genres  \\\n",
       "0  [multi-player, online-multi-player, local-mult...  [action]   \n",
       "1  [multi-player, online-multi-player, local-mult...  [action]   \n",
       "\n",
       "                steamspy_tags  \\\n",
       "0  [action, fps, multiplayer]   \n",
       "1  [action, fps, multiplayer]   \n",
       "\n",
       "                                   short_description  \n",
       "0  [play, the, world's, number, 1, online, action...  \n",
       "1  [one, of, the, most, popular, online, action, ...  "
      ]
     },
     "execution_count": 25,
     "metadata": {},
     "output_type": "execute_result"
    }
   ],
   "source": [
    "gameData.head(2)"
   ]
  },
  {
   "cell_type": "code",
   "execution_count": 26,
   "id": "02f5e172",
   "metadata": {},
   "outputs": [],
   "source": [
    "processed_df = gameData[['appid', 'name']]"
   ]
  },
  {
   "cell_type": "code",
   "execution_count": 27,
   "id": "41c29b72",
   "metadata": {},
   "outputs": [],
   "source": [
    "newTags = pd.read_csv('steamspy_tag_data.csv')"
   ]
  },
  {
   "cell_type": "code",
   "execution_count": 28,
   "id": "f7d8a8d1",
   "metadata": {
    "scrolled": true
   },
   "outputs": [],
   "source": [
    "def myFunc(x):\n",
    "    L = []\n",
    "    for i in x:\n",
    "        L.append(i)\n",
    "    return L\n",
    "\n",
    "newTags['myNewTags'] = newTags[newTags.columns[1:]].apply(myFunc, axis=1)\n",
    "newTags = newTags[['appid', 'myNewTags']]"
   ]
  },
  {
   "cell_type": "code",
   "execution_count": 29,
   "id": "73f6c6c4",
   "metadata": {},
   "outputs": [],
   "source": [
    "processed_df = processed_df.merge(newTags, on='appid')"
   ]
  },
  {
   "cell_type": "code",
   "execution_count": 30,
   "id": "cf1061bb",
   "metadata": {},
   "outputs": [
    {
     "data": {
      "text/html": [
       "<div>\n",
       "<style scoped>\n",
       "    .dataframe tbody tr th:only-of-type {\n",
       "        vertical-align: middle;\n",
       "    }\n",
       "\n",
       "    .dataframe tbody tr th {\n",
       "        vertical-align: top;\n",
       "    }\n",
       "\n",
       "    .dataframe thead th {\n",
       "        text-align: right;\n",
       "    }\n",
       "</style>\n",
       "<table border=\"1\" class=\"dataframe\">\n",
       "  <thead>\n",
       "    <tr style=\"text-align: right;\">\n",
       "      <th></th>\n",
       "      <th>appid</th>\n",
       "      <th>name</th>\n",
       "      <th>myNewTags</th>\n",
       "    </tr>\n",
       "  </thead>\n",
       "  <tbody>\n",
       "    <tr>\n",
       "      <th>0</th>\n",
       "      <td>10</td>\n",
       "      <td>Counter-Strike</td>\n",
       "      <td>[144, 564, 0, 0, 0, 0, 0, 0, 0, 0, 0, 0, 0, 0,...</td>\n",
       "    </tr>\n",
       "    <tr>\n",
       "      <th>1</th>\n",
       "      <td>20</td>\n",
       "      <td>Team Fortress Classic</td>\n",
       "      <td>[0, 71, 0, 0, 0, 0, 0, 0, 0, 0, 0, 0, 0, 0, 20...</td>\n",
       "    </tr>\n",
       "    <tr>\n",
       "      <th>2</th>\n",
       "      <td>30</td>\n",
       "      <td>Day of Defeat</td>\n",
       "      <td>[0, 0, 0, 0, 0, 0, 0, 0, 0, 0, 0, 0, 0, 0, 99,...</td>\n",
       "    </tr>\n",
       "    <tr>\n",
       "      <th>3</th>\n",
       "      <td>40</td>\n",
       "      <td>Deathmatch Classic</td>\n",
       "      <td>[0, 0, 0, 0, 0, 0, 0, 0, 0, 0, 0, 0, 0, 0, 85,...</td>\n",
       "    </tr>\n",
       "    <tr>\n",
       "      <th>4</th>\n",
       "      <td>50</td>\n",
       "      <td>Half-Life: Opposing Force</td>\n",
       "      <td>[0, 77, 0, 0, 0, 0, 0, 0, 0, 0, 0, 0, 0, 0, 21...</td>\n",
       "    </tr>\n",
       "    <tr>\n",
       "      <th>...</th>\n",
       "      <td>...</td>\n",
       "      <td>...</td>\n",
       "      <td>...</td>\n",
       "    </tr>\n",
       "    <tr>\n",
       "      <th>27070</th>\n",
       "      <td>1065230</td>\n",
       "      <td>Room of Pandora</td>\n",
       "      <td>[0, 0, 0, 0, 0, 0, 0, 0, 0, 0, 0, 0, 0, 0, 0, ...</td>\n",
       "    </tr>\n",
       "    <tr>\n",
       "      <th>27071</th>\n",
       "      <td>1065570</td>\n",
       "      <td>Cyber Gun</td>\n",
       "      <td>[0, 0, 0, 0, 0, 0, 0, 12, 0, 0, 0, 0, 0, 0, 21...</td>\n",
       "    </tr>\n",
       "    <tr>\n",
       "      <th>27072</th>\n",
       "      <td>1065650</td>\n",
       "      <td>Super Star Blast</td>\n",
       "      <td>[0, 0, 0, 0, 0, 0, 0, 0, 0, 0, 0, 0, 0, 0, 21,...</td>\n",
       "    </tr>\n",
       "    <tr>\n",
       "      <th>27073</th>\n",
       "      <td>1066700</td>\n",
       "      <td>New Yankee 7: Deer Hunters</td>\n",
       "      <td>[0, 0, 0, 0, 0, 0, 0, 0, 0, 0, 0, 0, 0, 0, 0, ...</td>\n",
       "    </tr>\n",
       "    <tr>\n",
       "      <th>27074</th>\n",
       "      <td>1069460</td>\n",
       "      <td>Rune Lord</td>\n",
       "      <td>[0, 0, 0, 0, 0, 0, 0, 0, 0, 0, 0, 0, 0, 0, 0, ...</td>\n",
       "    </tr>\n",
       "  </tbody>\n",
       "</table>\n",
       "<p>27075 rows × 3 columns</p>\n",
       "</div>"
      ],
      "text/plain": [
       "         appid                        name  \\\n",
       "0           10              Counter-Strike   \n",
       "1           20       Team Fortress Classic   \n",
       "2           30               Day of Defeat   \n",
       "3           40          Deathmatch Classic   \n",
       "4           50   Half-Life: Opposing Force   \n",
       "...        ...                         ...   \n",
       "27070  1065230             Room of Pandora   \n",
       "27071  1065570                   Cyber Gun   \n",
       "27072  1065650            Super Star Blast   \n",
       "27073  1066700  New Yankee 7: Deer Hunters   \n",
       "27074  1069460                   Rune Lord   \n",
       "\n",
       "                                               myNewTags  \n",
       "0      [144, 564, 0, 0, 0, 0, 0, 0, 0, 0, 0, 0, 0, 0,...  \n",
       "1      [0, 71, 0, 0, 0, 0, 0, 0, 0, 0, 0, 0, 0, 0, 20...  \n",
       "2      [0, 0, 0, 0, 0, 0, 0, 0, 0, 0, 0, 0, 0, 0, 99,...  \n",
       "3      [0, 0, 0, 0, 0, 0, 0, 0, 0, 0, 0, 0, 0, 0, 85,...  \n",
       "4      [0, 77, 0, 0, 0, 0, 0, 0, 0, 0, 0, 0, 0, 0, 21...  \n",
       "...                                                  ...  \n",
       "27070  [0, 0, 0, 0, 0, 0, 0, 0, 0, 0, 0, 0, 0, 0, 0, ...  \n",
       "27071  [0, 0, 0, 0, 0, 0, 0, 12, 0, 0, 0, 0, 0, 0, 21...  \n",
       "27072  [0, 0, 0, 0, 0, 0, 0, 0, 0, 0, 0, 0, 0, 0, 21,...  \n",
       "27073  [0, 0, 0, 0, 0, 0, 0, 0, 0, 0, 0, 0, 0, 0, 0, ...  \n",
       "27074  [0, 0, 0, 0, 0, 0, 0, 0, 0, 0, 0, 0, 0, 0, 0, ...  \n",
       "\n",
       "[27075 rows x 3 columns]"
      ]
     },
     "execution_count": 30,
     "metadata": {},
     "output_type": "execute_result"
    }
   ],
   "source": [
    "processed_df"
   ]
  },
  {
   "cell_type": "code",
   "execution_count": 31,
   "id": "cd317cc6",
   "metadata": {
    "scrolled": true
   },
   "outputs": [],
   "source": [
    "vectors = []\n",
    "for i in range(processed_df.shape[0]):\n",
    "    vectors.append(np.array(processed_df['myNewTags'].to_numpy()[i], dtype='int64'))\n",
    "vectors = np.array(vectors)"
   ]
  },
  {
   "cell_type": "code",
   "execution_count": 32,
   "id": "3b026263",
   "metadata": {},
   "outputs": [
    {
     "data": {
      "text/plain": [
       "array([[144, 564,   0, ...,   0,   0, 550],\n",
       "       [  0,  71,   0, ...,   0,   0,   0],\n",
       "       [  0,   0,   0, ...,   0,   0,   0],\n",
       "       ...,\n",
       "       [  0,   0,   0, ...,   0,   0,   0],\n",
       "       [  0,   0,   0, ...,   0,   0,   0],\n",
       "       [  0,   0,   0, ...,   0,   0,   0]], dtype=int64)"
      ]
     },
     "execution_count": 32,
     "metadata": {},
     "output_type": "execute_result"
    }
   ],
   "source": [
    "vectors"
   ]
  },
  {
   "cell_type": "code",
   "execution_count": 33,
   "id": "78276536",
   "metadata": {},
   "outputs": [
    {
     "data": {
      "text/html": [
       "<div>\n",
       "<style scoped>\n",
       "    .dataframe tbody tr th:only-of-type {\n",
       "        vertical-align: middle;\n",
       "    }\n",
       "\n",
       "    .dataframe tbody tr th {\n",
       "        vertical-align: top;\n",
       "    }\n",
       "\n",
       "    .dataframe thead th {\n",
       "        text-align: right;\n",
       "    }\n",
       "</style>\n",
       "<table border=\"1\" class=\"dataframe\">\n",
       "  <thead>\n",
       "    <tr style=\"text-align: right;\">\n",
       "      <th></th>\n",
       "      <th>appid</th>\n",
       "      <th>name</th>\n",
       "      <th>myNewTags</th>\n",
       "    </tr>\n",
       "  </thead>\n",
       "  <tbody>\n",
       "    <tr>\n",
       "      <th>0</th>\n",
       "      <td>10</td>\n",
       "      <td>Counter-Strike</td>\n",
       "      <td>[144, 564, 0, 0, 0, 0, 0, 0, 0, 0, 0, 0, 0, 0,...</td>\n",
       "    </tr>\n",
       "    <tr>\n",
       "      <th>1</th>\n",
       "      <td>20</td>\n",
       "      <td>Team Fortress Classic</td>\n",
       "      <td>[0, 71, 0, 0, 0, 0, 0, 0, 0, 0, 0, 0, 0, 0, 20...</td>\n",
       "    </tr>\n",
       "  </tbody>\n",
       "</table>\n",
       "</div>"
      ],
      "text/plain": [
       "   appid                   name  \\\n",
       "0     10         Counter-Strike   \n",
       "1     20  Team Fortress Classic   \n",
       "\n",
       "                                           myNewTags  \n",
       "0  [144, 564, 0, 0, 0, 0, 0, 0, 0, 0, 0, 0, 0, 0,...  \n",
       "1  [0, 71, 0, 0, 0, 0, 0, 0, 0, 0, 0, 0, 0, 0, 20...  "
      ]
     },
     "execution_count": 33,
     "metadata": {},
     "output_type": "execute_result"
    }
   ],
   "source": [
    "processed_df.head(2)"
   ]
  },
  {
   "cell_type": "code",
   "execution_count": 34,
   "id": "3fcc9c53",
   "metadata": {},
   "outputs": [],
   "source": [
    "from sklearn.metrics.pairwise import cosine_similarity"
   ]
  },
  {
   "cell_type": "code",
   "execution_count": 35,
   "id": "497db6e1",
   "metadata": {
    "scrolled": true
   },
   "outputs": [],
   "source": [
    "similarity = cosine_similarity(vectors)"
   ]
  },
  {
   "cell_type": "code",
   "execution_count": 36,
   "id": "5a282a51",
   "metadata": {},
   "outputs": [
    {
     "data": {
      "text/plain": [
       "2"
      ]
     },
     "execution_count": 36,
     "metadata": {},
     "output_type": "execute_result"
    }
   ],
   "source": [
    "processed_df[processed_df['name'] == 'Day of Defeat'].index[0]"
   ]
  },
  {
   "cell_type": "code",
   "execution_count": 37,
   "id": "6dc14a41",
   "metadata": {},
   "outputs": [],
   "source": [
    "def recommend(game):\n",
    "    game_index = processed_df[processed_df['name'] == game]\n",
    "    if game_index.shape[0] == 0:\n",
    "        print(\"No Game Found\")\n",
    "        return\n",
    "    game_index = game_index.index[0]\n",
    "    distances = similarity[game_index]\n",
    "    game_list = sorted(list(enumerate(distances)), reverse=True, key=lambda x:x[1])[1:11]\n",
    "    \n",
    "    for i in game_list:\n",
    "        print(processed_df.iloc[i[0]]['name'])"
   ]
  },
  {
   "cell_type": "code",
   "execution_count": 38,
   "id": "e49ab9b4",
   "metadata": {
    "scrolled": true
   },
   "outputs": [
    {
     "name": "stdout",
     "output_type": "stream",
     "text": [
      "Half-Life Deathmatch: Source\n",
      "Chaser\n",
      "Deathmatch Classic\n",
      "Section 8®: Prejudice™\n",
      "Unreal 2: The Awakening\n",
      "Half-Life 2: Deathmatch\n",
      "QUAKE Mission Pack 2: Dissolution of Eternity\n",
      "E.T. Armies\n",
      "MadSpace: To Hell and Beyond\n",
      "Judge Dredd: Dredd vs. Death\n"
     ]
    }
   ],
   "source": [
    "recommend('Ricochet')"
   ]
  }
 ],
 "metadata": {
  "kernelspec": {
   "display_name": "Python 3 (ipykernel)",
   "language": "python",
   "name": "python3"
  },
  "language_info": {
   "codemirror_mode": {
    "name": "ipython",
    "version": 3
   },
   "file_extension": ".py",
   "mimetype": "text/x-python",
   "name": "python",
   "nbconvert_exporter": "python",
   "pygments_lexer": "ipython3",
   "version": "3.9.1"
  }
 },
 "nbformat": 4,
 "nbformat_minor": 5
}
