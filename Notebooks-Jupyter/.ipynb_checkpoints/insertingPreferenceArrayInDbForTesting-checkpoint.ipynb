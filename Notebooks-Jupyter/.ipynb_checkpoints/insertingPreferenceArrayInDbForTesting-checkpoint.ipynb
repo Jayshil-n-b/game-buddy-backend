{
 "cells": [
  {
   "cell_type": "code",
   "execution_count": 1,
   "id": "cf742d1a",
   "metadata": {},
   "outputs": [],
   "source": [
    "import numpy as np\n",
    "import pandas as pd\n",
    "import pickle"
   ]
  },
  {
   "cell_type": "code",
   "execution_count": 2,
   "id": "b8423ca6",
   "metadata": {},
   "outputs": [],
   "source": [
    "myVectors = pickle.load(open('vectors_dump.pkl', 'rb'))"
   ]
  },
  {
   "cell_type": "code",
   "execution_count": 3,
   "id": "cb13b6a2",
   "metadata": {},
   "outputs": [
    {
     "name": "stdout",
     "output_type": "stream",
     "text": [
      "Requirement already satisfied: pymongo in c:\\users\\jnb\\appdata\\local\\programs\\python\\python39\\lib\\site-packages (4.1.1)\n"
     ]
    }
   ],
   "source": [
    "!pip install pymongo"
   ]
  },
  {
   "cell_type": "code",
   "execution_count": 4,
   "id": "62dcce00",
   "metadata": {},
   "outputs": [],
   "source": [
    "import pymongo\n",
    "import json\n",
    "from pathlib import Path\n",
    "import os"
   ]
  },
  {
   "cell_type": "code",
   "execution_count": 5,
   "id": "ee626148",
   "metadata": {},
   "outputs": [
    {
     "name": "stdout",
     "output_type": "stream",
     "text": [
      "Requirement already satisfied: python-dotenv in c:\\users\\jnb\\appdata\\local\\programs\\python\\python39\\lib\\site-packages (0.20.0)\n"
     ]
    }
   ],
   "source": [
    "!pip install python-dotenv"
   ]
  },
  {
   "cell_type": "code",
   "execution_count": 6,
   "id": "52fa0ad7",
   "metadata": {},
   "outputs": [
    {
     "data": {
      "text/plain": [
       "True"
      ]
     },
     "execution_count": 6,
     "metadata": {},
     "output_type": "execute_result"
    }
   ],
   "source": [
    "from dotenv import load_dotenv\n",
    "load_dotenv()"
   ]
  },
  {
   "cell_type": "code",
   "execution_count": 7,
   "id": "c2aa8c7d",
   "metadata": {},
   "outputs": [
    {
     "name": "stdout",
     "output_type": "stream",
     "text": [
      "Requirement already satisfied: pymongo[srv] in c:\\users\\jnb\\appdata\\local\\programs\\python\\python39\\lib\\site-packages (4.1.1)\n",
      "Requirement already satisfied: dnspython<3.0.0,>=1.16.0 in c:\\users\\jnb\\appdata\\local\\programs\\python\\python39\\lib\\site-packages (from pymongo[srv]) (2.2.1)\n"
     ]
    }
   ],
   "source": [
    "!pip install pymongo[srv]"
   ]
  },
  {
   "cell_type": "code",
   "execution_count": 8,
   "id": "8c0e7268",
   "metadata": {
    "scrolled": true
   },
   "outputs": [],
   "source": [
    "client = pymongo.MongoClient(os.environ['CONNSTR'])"
   ]
  },
  {
   "cell_type": "code",
   "execution_count": 9,
   "id": "dbf93e25",
   "metadata": {},
   "outputs": [],
   "source": [
    "db = client[\"gameBuddyDb\"]"
   ]
  },
  {
   "cell_type": "code",
   "execution_count": 10,
   "id": "a62930fa",
   "metadata": {
    "scrolled": true
   },
   "outputs": [
    {
     "data": {
      "text/plain": [
       "Database(MongoClient(host=['nodeexpressprojects-shard-00-00.mdrms.mongodb.net:27017', 'nodeexpressprojects-shard-00-02.mdrms.mongodb.net:27017', 'nodeexpressprojects-shard-00-01.mdrms.mongodb.net:27017'], document_class=dict, tz_aware=False, connect=True, retrywrites=True, w='majority', authsource='admin', replicaset='atlas-111w4h-shard-0', tls=True), 'gameBuddyDb')"
      ]
     },
     "execution_count": 10,
     "metadata": {},
     "output_type": "execute_result"
    }
   ],
   "source": [
    "db"
   ]
  },
  {
   "cell_type": "code",
   "execution_count": 11,
   "id": "9faf471b",
   "metadata": {},
   "outputs": [],
   "source": [
    "vector = myVectors[0]"
   ]
  },
  {
   "cell_type": "code",
   "execution_count": 12,
   "id": "019cacde",
   "metadata": {},
   "outputs": [],
   "source": [
    "obj = {}\n",
    "obj['perfArr'] = vector.tolist()\n",
    "obj['userId'] = 123"
   ]
  },
  {
   "cell_type": "code",
   "execution_count": 13,
   "id": "e57e4a6a",
   "metadata": {},
   "outputs": [
    {
     "data": {
      "text/plain": [
       "<pymongo.results.InsertOneResult at 0x270209bad60>"
      ]
     },
     "execution_count": 13,
     "metadata": {},
     "output_type": "execute_result"
    }
   ],
   "source": [
    "# db.usersData.insert_one(obj)"
   ]
  },
  {
   "cell_type": "code",
   "execution_count": 14,
   "id": "80a04cca",
   "metadata": {},
   "outputs": [],
   "source": [
    "# db.gamesData.insert_many(data) \n",
    "\n",
    "# Have inserted data already please don't rerun with current connection string."
   ]
  }
 ],
 "metadata": {
  "kernelspec": {
   "display_name": "Python 3 (ipykernel)",
   "language": "python",
   "name": "python3"
  },
  "language_info": {
   "codemirror_mode": {
    "name": "ipython",
    "version": 3
   },
   "file_extension": ".py",
   "mimetype": "text/x-python",
   "name": "python",
   "nbconvert_exporter": "python",
   "pygments_lexer": "ipython3",
   "version": "3.9.1"
  }
 },
 "nbformat": 4,
 "nbformat_minor": 5
}
