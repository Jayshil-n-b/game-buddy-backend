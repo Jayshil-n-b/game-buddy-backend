{
 "cells": [
  {
   "cell_type": "code",
   "execution_count": 1,
   "id": "25298de9",
   "metadata": {},
   "outputs": [],
   "source": [
    "import numpy as np\n",
    "import pandas as pd"
   ]
  },
  {
   "cell_type": "code",
   "execution_count": 2,
   "id": "85c3fc9e",
   "metadata": {},
   "outputs": [],
   "source": [
    "gameData = pd.read_csv('../Datasets/steam.csv')"
   ]
  },
  {
   "cell_type": "code",
   "execution_count": 3,
   "id": "3b90ba76",
   "metadata": {},
   "outputs": [
    {
     "data": {
      "text/html": [
       "<div>\n",
       "<style scoped>\n",
       "    .dataframe tbody tr th:only-of-type {\n",
       "        vertical-align: middle;\n",
       "    }\n",
       "\n",
       "    .dataframe tbody tr th {\n",
       "        vertical-align: top;\n",
       "    }\n",
       "\n",
       "    .dataframe thead th {\n",
       "        text-align: right;\n",
       "    }\n",
       "</style>\n",
       "<table border=\"1\" class=\"dataframe\">\n",
       "  <thead>\n",
       "    <tr style=\"text-align: right;\">\n",
       "      <th></th>\n",
       "      <th>appid</th>\n",
       "      <th>name</th>\n",
       "      <th>release_date</th>\n",
       "      <th>english</th>\n",
       "      <th>developer</th>\n",
       "      <th>publisher</th>\n",
       "      <th>platforms</th>\n",
       "      <th>required_age</th>\n",
       "      <th>categories</th>\n",
       "      <th>genres</th>\n",
       "      <th>steamspy_tags</th>\n",
       "      <th>achievements</th>\n",
       "      <th>positive_ratings</th>\n",
       "      <th>negative_ratings</th>\n",
       "      <th>average_playtime</th>\n",
       "      <th>median_playtime</th>\n",
       "      <th>owners</th>\n",
       "      <th>price</th>\n",
       "    </tr>\n",
       "  </thead>\n",
       "  <tbody>\n",
       "    <tr>\n",
       "      <th>0</th>\n",
       "      <td>10</td>\n",
       "      <td>Counter-Strike</td>\n",
       "      <td>2000-11-01</td>\n",
       "      <td>1</td>\n",
       "      <td>Valve</td>\n",
       "      <td>Valve</td>\n",
       "      <td>windows;mac;linux</td>\n",
       "      <td>0</td>\n",
       "      <td>Multi-player;Online Multi-Player;Local Multi-P...</td>\n",
       "      <td>Action</td>\n",
       "      <td>Action;FPS;Multiplayer</td>\n",
       "      <td>0</td>\n",
       "      <td>124534</td>\n",
       "      <td>3339</td>\n",
       "      <td>17612</td>\n",
       "      <td>317</td>\n",
       "      <td>10000000-20000000</td>\n",
       "      <td>7.19</td>\n",
       "    </tr>\n",
       "    <tr>\n",
       "      <th>1</th>\n",
       "      <td>20</td>\n",
       "      <td>Team Fortress Classic</td>\n",
       "      <td>1999-04-01</td>\n",
       "      <td>1</td>\n",
       "      <td>Valve</td>\n",
       "      <td>Valve</td>\n",
       "      <td>windows;mac;linux</td>\n",
       "      <td>0</td>\n",
       "      <td>Multi-player;Online Multi-Player;Local Multi-P...</td>\n",
       "      <td>Action</td>\n",
       "      <td>Action;FPS;Multiplayer</td>\n",
       "      <td>0</td>\n",
       "      <td>3318</td>\n",
       "      <td>633</td>\n",
       "      <td>277</td>\n",
       "      <td>62</td>\n",
       "      <td>5000000-10000000</td>\n",
       "      <td>3.99</td>\n",
       "    </tr>\n",
       "  </tbody>\n",
       "</table>\n",
       "</div>"
      ],
      "text/plain": [
       "   appid                   name release_date  english developer publisher  \\\n",
       "0     10         Counter-Strike   2000-11-01        1     Valve     Valve   \n",
       "1     20  Team Fortress Classic   1999-04-01        1     Valve     Valve   \n",
       "\n",
       "           platforms  required_age  \\\n",
       "0  windows;mac;linux             0   \n",
       "1  windows;mac;linux             0   \n",
       "\n",
       "                                          categories  genres  \\\n",
       "0  Multi-player;Online Multi-Player;Local Multi-P...  Action   \n",
       "1  Multi-player;Online Multi-Player;Local Multi-P...  Action   \n",
       "\n",
       "            steamspy_tags  achievements  positive_ratings  negative_ratings  \\\n",
       "0  Action;FPS;Multiplayer             0            124534              3339   \n",
       "1  Action;FPS;Multiplayer             0              3318               633   \n",
       "\n",
       "   average_playtime  median_playtime             owners  price  \n",
       "0             17612              317  10000000-20000000   7.19  \n",
       "1               277               62   5000000-10000000   3.99  "
      ]
     },
     "execution_count": 3,
     "metadata": {},
     "output_type": "execute_result"
    }
   ],
   "source": [
    "gameData.head(2)"
   ]
  },
  {
   "cell_type": "code",
   "execution_count": 4,
   "id": "4294d854",
   "metadata": {},
   "outputs": [],
   "source": [
    "gameData['owners'] = gameData['owners'].apply(lambda x:x.split('-'))"
   ]
  },
  {
   "cell_type": "code",
   "execution_count": 5,
   "id": "9221899d",
   "metadata": {},
   "outputs": [],
   "source": [
    "gameData['owners'] = gameData['owners'].apply(lambda x:(x[0]))"
   ]
  },
  {
   "cell_type": "code",
   "execution_count": 6,
   "id": "10b5b846",
   "metadata": {},
   "outputs": [],
   "source": [
    "gameData['owners'] = gameData['owners'].apply(lambda x:int(x))"
   ]
  },
  {
   "cell_type": "code",
   "execution_count": 7,
   "id": "cd50f303",
   "metadata": {},
   "outputs": [],
   "source": [
    "gameData = gameData[gameData['owners'] >= 50000]"
   ]
  },
  {
   "cell_type": "code",
   "execution_count": 8,
   "id": "8b414c5d",
   "metadata": {},
   "outputs": [
    {
     "data": {
      "text/plain": [
       "(5420, 18)"
      ]
     },
     "execution_count": 8,
     "metadata": {},
     "output_type": "execute_result"
    }
   ],
   "source": [
    "gameData.shape"
   ]
  },
  {
   "cell_type": "code",
   "execution_count": 9,
   "id": "5ecdf4d1",
   "metadata": {},
   "outputs": [],
   "source": [
    "gameData.dropna(inplace=True)"
   ]
  },
  {
   "cell_type": "code",
   "execution_count": 10,
   "id": "32b88514",
   "metadata": {},
   "outputs": [
    {
     "data": {
      "text/plain": [
       "(5420, 18)"
      ]
     },
     "execution_count": 10,
     "metadata": {},
     "output_type": "execute_result"
    }
   ],
   "source": [
    "gameData.shape"
   ]
  },
  {
   "cell_type": "code",
   "execution_count": 11,
   "id": "72416c83",
   "metadata": {},
   "outputs": [
    {
     "data": {
      "text/plain": [
       "0"
      ]
     },
     "execution_count": 11,
     "metadata": {},
     "output_type": "execute_result"
    }
   ],
   "source": [
    "gameData.duplicated().sum()"
   ]
  },
  {
   "cell_type": "code",
   "execution_count": 12,
   "id": "76803541",
   "metadata": {},
   "outputs": [
    {
     "name": "stdout",
     "output_type": "stream",
     "text": [
      "<class 'pandas.core.frame.DataFrame'>\n",
      "Int64Index: 5420 entries, 0 to 26981\n",
      "Data columns (total 18 columns):\n",
      " #   Column            Non-Null Count  Dtype  \n",
      "---  ------            --------------  -----  \n",
      " 0   appid             5420 non-null   int64  \n",
      " 1   name              5420 non-null   object \n",
      " 2   release_date      5420 non-null   object \n",
      " 3   english           5420 non-null   int64  \n",
      " 4   developer         5420 non-null   object \n",
      " 5   publisher         5420 non-null   object \n",
      " 6   platforms         5420 non-null   object \n",
      " 7   required_age      5420 non-null   int64  \n",
      " 8   categories        5420 non-null   object \n",
      " 9   genres            5420 non-null   object \n",
      " 10  steamspy_tags     5420 non-null   object \n",
      " 11  achievements      5420 non-null   int64  \n",
      " 12  positive_ratings  5420 non-null   int64  \n",
      " 13  negative_ratings  5420 non-null   int64  \n",
      " 14  average_playtime  5420 non-null   int64  \n",
      " 15  median_playtime   5420 non-null   int64  \n",
      " 16  owners            5420 non-null   int64  \n",
      " 17  price             5420 non-null   float64\n",
      "dtypes: float64(1), int64(9), object(8)\n",
      "memory usage: 804.5+ KB\n"
     ]
    }
   ],
   "source": [
    "gameData.info()"
   ]
  },
  {
   "cell_type": "code",
   "execution_count": 13,
   "id": "87572883",
   "metadata": {},
   "outputs": [],
   "source": [
    "gameData = gameData[['appid', 'name', 'release_date', 'developer', 'categories', 'genres', 'steamspy_tags']]"
   ]
  },
  {
   "cell_type": "code",
   "execution_count": 14,
   "id": "02f5e172",
   "metadata": {},
   "outputs": [],
   "source": [
    "processed_df = gameData[['appid', 'name']]"
   ]
  },
  {
   "cell_type": "code",
   "execution_count": 15,
   "id": "41c29b72",
   "metadata": {},
   "outputs": [],
   "source": [
    "newTags = pd.read_csv('../Datasets/steamspy_tag_data.csv')"
   ]
  },
  {
   "cell_type": "code",
   "execution_count": 16,
   "id": "37583201",
   "metadata": {},
   "outputs": [
    {
     "data": {
      "text/html": [
       "<div>\n",
       "<style scoped>\n",
       "    .dataframe tbody tr th:only-of-type {\n",
       "        vertical-align: middle;\n",
       "    }\n",
       "\n",
       "    .dataframe tbody tr th {\n",
       "        vertical-align: top;\n",
       "    }\n",
       "\n",
       "    .dataframe thead th {\n",
       "        text-align: right;\n",
       "    }\n",
       "</style>\n",
       "<table border=\"1\" class=\"dataframe\">\n",
       "  <thead>\n",
       "    <tr style=\"text-align: right;\">\n",
       "      <th></th>\n",
       "      <th>appid</th>\n",
       "      <th>1980s</th>\n",
       "      <th>1990s</th>\n",
       "      <th>2.5d</th>\n",
       "      <th>2d</th>\n",
       "      <th>2d_fighter</th>\n",
       "      <th>360_video</th>\n",
       "      <th>3d</th>\n",
       "      <th>3d_platformer</th>\n",
       "      <th>3d_vision</th>\n",
       "      <th>...</th>\n",
       "      <th>warhammer_40k</th>\n",
       "      <th>web_publishing</th>\n",
       "      <th>werewolves</th>\n",
       "      <th>western</th>\n",
       "      <th>word_game</th>\n",
       "      <th>world_war_i</th>\n",
       "      <th>world_war_ii</th>\n",
       "      <th>wrestling</th>\n",
       "      <th>zombies</th>\n",
       "      <th>e_sports</th>\n",
       "    </tr>\n",
       "  </thead>\n",
       "  <tbody>\n",
       "    <tr>\n",
       "      <th>0</th>\n",
       "      <td>10</td>\n",
       "      <td>144</td>\n",
       "      <td>564</td>\n",
       "      <td>0</td>\n",
       "      <td>0</td>\n",
       "      <td>0</td>\n",
       "      <td>0</td>\n",
       "      <td>0</td>\n",
       "      <td>0</td>\n",
       "      <td>0</td>\n",
       "      <td>...</td>\n",
       "      <td>0</td>\n",
       "      <td>0</td>\n",
       "      <td>0</td>\n",
       "      <td>0</td>\n",
       "      <td>0</td>\n",
       "      <td>0</td>\n",
       "      <td>0</td>\n",
       "      <td>0</td>\n",
       "      <td>0</td>\n",
       "      <td>550</td>\n",
       "    </tr>\n",
       "    <tr>\n",
       "      <th>1</th>\n",
       "      <td>20</td>\n",
       "      <td>0</td>\n",
       "      <td>71</td>\n",
       "      <td>0</td>\n",
       "      <td>0</td>\n",
       "      <td>0</td>\n",
       "      <td>0</td>\n",
       "      <td>0</td>\n",
       "      <td>0</td>\n",
       "      <td>0</td>\n",
       "      <td>...</td>\n",
       "      <td>0</td>\n",
       "      <td>0</td>\n",
       "      <td>0</td>\n",
       "      <td>0</td>\n",
       "      <td>0</td>\n",
       "      <td>0</td>\n",
       "      <td>0</td>\n",
       "      <td>0</td>\n",
       "      <td>0</td>\n",
       "      <td>0</td>\n",
       "    </tr>\n",
       "  </tbody>\n",
       "</table>\n",
       "<p>2 rows × 372 columns</p>\n",
       "</div>"
      ],
      "text/plain": [
       "   appid  1980s  1990s  2.5d  2d  2d_fighter  360_video  3d  3d_platformer  \\\n",
       "0     10    144    564     0   0           0          0   0              0   \n",
       "1     20      0     71     0   0           0          0   0              0   \n",
       "\n",
       "   3d_vision  ...  warhammer_40k  web_publishing  werewolves  western  \\\n",
       "0          0  ...              0               0           0        0   \n",
       "1          0  ...              0               0           0        0   \n",
       "\n",
       "   word_game  world_war_i  world_war_ii  wrestling  zombies  e_sports  \n",
       "0          0            0             0          0        0       550  \n",
       "1          0            0             0          0        0         0  \n",
       "\n",
       "[2 rows x 372 columns]"
      ]
     },
     "execution_count": 16,
     "metadata": {},
     "output_type": "execute_result"
    }
   ],
   "source": [
    "newTags.head(2)"
   ]
  },
  {
   "cell_type": "code",
   "execution_count": 17,
   "id": "f7d8a8d1",
   "metadata": {
    "scrolled": true
   },
   "outputs": [],
   "source": [
    "def myFunc(x):\n",
    "    L = []\n",
    "    for i in x:\n",
    "        L.append(i)\n",
    "    return L\n",
    "\n",
    "newTags['myNewTags'] = newTags[newTags.columns[1:]].apply(myFunc, axis=1)\n",
    "newTags = newTags[['appid', 'myNewTags']]"
   ]
  },
  {
   "cell_type": "code",
   "execution_count": 18,
   "id": "73f6c6c4",
   "metadata": {},
   "outputs": [],
   "source": [
    "processed_df = processed_df.merge(newTags, on='appid')"
   ]
  },
  {
   "cell_type": "code",
   "execution_count": 19,
   "id": "cf1061bb",
   "metadata": {
    "scrolled": true
   },
   "outputs": [
    {
     "data": {
      "text/html": [
       "<div>\n",
       "<style scoped>\n",
       "    .dataframe tbody tr th:only-of-type {\n",
       "        vertical-align: middle;\n",
       "    }\n",
       "\n",
       "    .dataframe tbody tr th {\n",
       "        vertical-align: top;\n",
       "    }\n",
       "\n",
       "    .dataframe thead th {\n",
       "        text-align: right;\n",
       "    }\n",
       "</style>\n",
       "<table border=\"1\" class=\"dataframe\">\n",
       "  <thead>\n",
       "    <tr style=\"text-align: right;\">\n",
       "      <th></th>\n",
       "      <th>appid</th>\n",
       "      <th>name</th>\n",
       "      <th>myNewTags</th>\n",
       "    </tr>\n",
       "  </thead>\n",
       "  <tbody>\n",
       "    <tr>\n",
       "      <th>0</th>\n",
       "      <td>10</td>\n",
       "      <td>Counter-Strike</td>\n",
       "      <td>[144, 564, 0, 0, 0, 0, 0, 0, 0, 0, 0, 0, 0, 0,...</td>\n",
       "    </tr>\n",
       "    <tr>\n",
       "      <th>1</th>\n",
       "      <td>20</td>\n",
       "      <td>Team Fortress Classic</td>\n",
       "      <td>[0, 71, 0, 0, 0, 0, 0, 0, 0, 0, 0, 0, 0, 0, 20...</td>\n",
       "    </tr>\n",
       "    <tr>\n",
       "      <th>2</th>\n",
       "      <td>30</td>\n",
       "      <td>Day of Defeat</td>\n",
       "      <td>[0, 0, 0, 0, 0, 0, 0, 0, 0, 0, 0, 0, 0, 0, 99,...</td>\n",
       "    </tr>\n",
       "    <tr>\n",
       "      <th>3</th>\n",
       "      <td>40</td>\n",
       "      <td>Deathmatch Classic</td>\n",
       "      <td>[0, 0, 0, 0, 0, 0, 0, 0, 0, 0, 0, 0, 0, 0, 85,...</td>\n",
       "    </tr>\n",
       "    <tr>\n",
       "      <th>4</th>\n",
       "      <td>50</td>\n",
       "      <td>Half-Life: Opposing Force</td>\n",
       "      <td>[0, 77, 0, 0, 0, 0, 0, 0, 0, 0, 0, 0, 0, 0, 21...</td>\n",
       "    </tr>\n",
       "    <tr>\n",
       "      <th>5</th>\n",
       "      <td>60</td>\n",
       "      <td>Ricochet</td>\n",
       "      <td>[0, 0, 0, 0, 0, 0, 13, 0, 0, 0, 0, 0, 0, 0, 10...</td>\n",
       "    </tr>\n",
       "  </tbody>\n",
       "</table>\n",
       "</div>"
      ],
      "text/plain": [
       "   appid                       name  \\\n",
       "0     10             Counter-Strike   \n",
       "1     20      Team Fortress Classic   \n",
       "2     30              Day of Defeat   \n",
       "3     40         Deathmatch Classic   \n",
       "4     50  Half-Life: Opposing Force   \n",
       "5     60                   Ricochet   \n",
       "\n",
       "                                           myNewTags  \n",
       "0  [144, 564, 0, 0, 0, 0, 0, 0, 0, 0, 0, 0, 0, 0,...  \n",
       "1  [0, 71, 0, 0, 0, 0, 0, 0, 0, 0, 0, 0, 0, 0, 20...  \n",
       "2  [0, 0, 0, 0, 0, 0, 0, 0, 0, 0, 0, 0, 0, 0, 99,...  \n",
       "3  [0, 0, 0, 0, 0, 0, 0, 0, 0, 0, 0, 0, 0, 0, 85,...  \n",
       "4  [0, 77, 0, 0, 0, 0, 0, 0, 0, 0, 0, 0, 0, 0, 21...  \n",
       "5  [0, 0, 0, 0, 0, 0, 13, 0, 0, 0, 0, 0, 0, 0, 10...  "
      ]
     },
     "execution_count": 19,
     "metadata": {},
     "output_type": "execute_result"
    }
   ],
   "source": [
    "processed_df.head(6)"
   ]
  },
  {
   "cell_type": "code",
   "execution_count": 20,
   "id": "04e718ac",
   "metadata": {},
   "outputs": [
    {
     "data": {
      "text/html": [
       "<div>\n",
       "<style scoped>\n",
       "    .dataframe tbody tr th:only-of-type {\n",
       "        vertical-align: middle;\n",
       "    }\n",
       "\n",
       "    .dataframe tbody tr th {\n",
       "        vertical-align: top;\n",
       "    }\n",
       "\n",
       "    .dataframe thead th {\n",
       "        text-align: right;\n",
       "    }\n",
       "</style>\n",
       "<table border=\"1\" class=\"dataframe\">\n",
       "  <thead>\n",
       "    <tr style=\"text-align: right;\">\n",
       "      <th></th>\n",
       "      <th>appid</th>\n",
       "      <th>name</th>\n",
       "      <th>myNewTags</th>\n",
       "    </tr>\n",
       "  </thead>\n",
       "  <tbody>\n",
       "    <tr>\n",
       "      <th>2058</th>\n",
       "      <td>291550</td>\n",
       "      <td>Brawlhalla</td>\n",
       "      <td>[0, 0, 0, 690, 641, 0, 0, 0, 0, 323, 0, 0, 0, ...</td>\n",
       "    </tr>\n",
       "  </tbody>\n",
       "</table>\n",
       "</div>"
      ],
      "text/plain": [
       "       appid        name                                          myNewTags\n",
       "2058  291550  Brawlhalla  [0, 0, 0, 690, 641, 0, 0, 0, 0, 323, 0, 0, 0, ..."
      ]
     },
     "execution_count": 20,
     "metadata": {},
     "output_type": "execute_result"
    }
   ],
   "source": [
    "L = np.zeros(371)\n",
    "(processed_df[processed_df['name'] == \"Brawlhalla\"])"
   ]
  },
  {
   "cell_type": "code",
   "execution_count": 21,
   "id": "2257a50f",
   "metadata": {},
   "outputs": [],
   "source": [
    "mediaData = pd.read_csv('../Datasets/steam_media_data.csv')"
   ]
  },
  {
   "cell_type": "code",
   "execution_count": 22,
   "id": "707295cf",
   "metadata": {},
   "outputs": [
    {
     "data": {
      "text/html": [
       "<div>\n",
       "<style scoped>\n",
       "    .dataframe tbody tr th:only-of-type {\n",
       "        vertical-align: middle;\n",
       "    }\n",
       "\n",
       "    .dataframe tbody tr th {\n",
       "        vertical-align: top;\n",
       "    }\n",
       "\n",
       "    .dataframe thead th {\n",
       "        text-align: right;\n",
       "    }\n",
       "</style>\n",
       "<table border=\"1\" class=\"dataframe\">\n",
       "  <thead>\n",
       "    <tr style=\"text-align: right;\">\n",
       "      <th></th>\n",
       "      <th>steam_appid</th>\n",
       "      <th>header_image</th>\n",
       "      <th>screenshots</th>\n",
       "      <th>background</th>\n",
       "      <th>movies</th>\n",
       "    </tr>\n",
       "  </thead>\n",
       "  <tbody>\n",
       "    <tr>\n",
       "      <th>0</th>\n",
       "      <td>10</td>\n",
       "      <td>https://steamcdn-a.akamaihd.net/steam/apps/10/...</td>\n",
       "      <td>[{'id': 0, 'path_thumbnail': 'https://steamcdn...</td>\n",
       "      <td>https://steamcdn-a.akamaihd.net/steam/apps/10/...</td>\n",
       "      <td>NaN</td>\n",
       "    </tr>\n",
       "    <tr>\n",
       "      <th>1</th>\n",
       "      <td>20</td>\n",
       "      <td>https://steamcdn-a.akamaihd.net/steam/apps/20/...</td>\n",
       "      <td>[{'id': 0, 'path_thumbnail': 'https://steamcdn...</td>\n",
       "      <td>https://steamcdn-a.akamaihd.net/steam/apps/20/...</td>\n",
       "      <td>NaN</td>\n",
       "    </tr>\n",
       "  </tbody>\n",
       "</table>\n",
       "</div>"
      ],
      "text/plain": [
       "   steam_appid                                       header_image  \\\n",
       "0           10  https://steamcdn-a.akamaihd.net/steam/apps/10/...   \n",
       "1           20  https://steamcdn-a.akamaihd.net/steam/apps/20/...   \n",
       "\n",
       "                                         screenshots  \\\n",
       "0  [{'id': 0, 'path_thumbnail': 'https://steamcdn...   \n",
       "1  [{'id': 0, 'path_thumbnail': 'https://steamcdn...   \n",
       "\n",
       "                                          background movies  \n",
       "0  https://steamcdn-a.akamaihd.net/steam/apps/10/...    NaN  \n",
       "1  https://steamcdn-a.akamaihd.net/steam/apps/20/...    NaN  "
      ]
     },
     "execution_count": 22,
     "metadata": {},
     "output_type": "execute_result"
    }
   ],
   "source": [
    "mediaData.head(2)"
   ]
  },
  {
   "cell_type": "code",
   "execution_count": 23,
   "id": "a35a9c53",
   "metadata": {},
   "outputs": [],
   "source": [
    "mediaData.rename(columns = {'steam_appid':'appid'}, inplace = True)"
   ]
  },
  {
   "cell_type": "code",
   "execution_count": 24,
   "id": "e756d4b3",
   "metadata": {},
   "outputs": [],
   "source": [
    "processed_df = processed_df.merge(mediaData[['appid', 'header_image']], on='appid')"
   ]
  },
  {
   "cell_type": "code",
   "execution_count": 25,
   "id": "cd317cc6",
   "metadata": {
    "scrolled": true
   },
   "outputs": [],
   "source": [
    "vectors = []\n",
    "for i in range(processed_df.shape[0]):\n",
    "    vectors.append(np.array(processed_df['myNewTags'].to_numpy()[i], dtype='int64'))\n",
    "vectors = np.array(vectors)"
   ]
  },
  {
   "cell_type": "code",
   "execution_count": 26,
   "id": "3b026263",
   "metadata": {},
   "outputs": [
    {
     "data": {
      "text/plain": [
       "array([[144, 564,   0, ...,   0,   0, 550],\n",
       "       [  0,  71,   0, ...,   0,   0,   0],\n",
       "       [  0,   0,   0, ...,   0,   0,   0],\n",
       "       ...,\n",
       "       [  0,   0,   0, ...,   0,   0,   0],\n",
       "       [  0,   0,   0, ...,   0,   0,   0],\n",
       "       [  0,   0,   0, ...,   0,   0,   0]], dtype=int64)"
      ]
     },
     "execution_count": 26,
     "metadata": {},
     "output_type": "execute_result"
    }
   ],
   "source": [
    "vectors"
   ]
  },
  {
   "cell_type": "code",
   "execution_count": 52,
   "id": "78276536",
   "metadata": {
    "scrolled": true
   },
   "outputs": [
    {
     "data": {
      "text/html": [
       "<div>\n",
       "<style scoped>\n",
       "    .dataframe tbody tr th:only-of-type {\n",
       "        vertical-align: middle;\n",
       "    }\n",
       "\n",
       "    .dataframe tbody tr th {\n",
       "        vertical-align: top;\n",
       "    }\n",
       "\n",
       "    .dataframe thead th {\n",
       "        text-align: right;\n",
       "    }\n",
       "</style>\n",
       "<table border=\"1\" class=\"dataframe\">\n",
       "  <thead>\n",
       "    <tr style=\"text-align: right;\">\n",
       "      <th></th>\n",
       "      <th>appid</th>\n",
       "      <th>name</th>\n",
       "      <th>myNewTags</th>\n",
       "      <th>header_image</th>\n",
       "    </tr>\n",
       "  </thead>\n",
       "  <tbody>\n",
       "    <tr>\n",
       "      <th>0</th>\n",
       "      <td>10</td>\n",
       "      <td>Counter-Strike</td>\n",
       "      <td>[144, 564, 0, 0, 0, 0, 0, 0, 0, 0, 0, 0, 0, 0,...</td>\n",
       "      <td>https://steamcdn-a.akamaihd.net/steam/apps/10/...</td>\n",
       "    </tr>\n",
       "    <tr>\n",
       "      <th>1</th>\n",
       "      <td>20</td>\n",
       "      <td>Team Fortress Classic</td>\n",
       "      <td>[0, 71, 0, 0, 0, 0, 0, 0, 0, 0, 0, 0, 0, 0, 20...</td>\n",
       "      <td>https://steamcdn-a.akamaihd.net/steam/apps/20/...</td>\n",
       "    </tr>\n",
       "  </tbody>\n",
       "</table>\n",
       "</div>"
      ],
      "text/plain": [
       "   appid                   name  \\\n",
       "0     10         Counter-Strike   \n",
       "1     20  Team Fortress Classic   \n",
       "\n",
       "                                           myNewTags  \\\n",
       "0  [144, 564, 0, 0, 0, 0, 0, 0, 0, 0, 0, 0, 0, 0,...   \n",
       "1  [0, 71, 0, 0, 0, 0, 0, 0, 0, 0, 0, 0, 0, 0, 20...   \n",
       "\n",
       "                                        header_image  \n",
       "0  https://steamcdn-a.akamaihd.net/steam/apps/10/...  \n",
       "1  https://steamcdn-a.akamaihd.net/steam/apps/20/...  "
      ]
     },
     "execution_count": 52,
     "metadata": {},
     "output_type": "execute_result"
    }
   ],
   "source": [
    "processed_df.head(2)"
   ]
  },
  {
   "cell_type": "code",
   "execution_count": 28,
   "id": "9db8733e",
   "metadata": {
    "scrolled": true
   },
   "outputs": [],
   "source": [
    "info = processed_df[['appid', 'name']]"
   ]
  },
  {
   "cell_type": "code",
   "execution_count": 42,
   "id": "0ed14a2a",
   "metadata": {},
   "outputs": [
    {
     "data": {
      "text/html": [
       "<div>\n",
       "<style scoped>\n",
       "    .dataframe tbody tr th:only-of-type {\n",
       "        vertical-align: middle;\n",
       "    }\n",
       "\n",
       "    .dataframe tbody tr th {\n",
       "        vertical-align: top;\n",
       "    }\n",
       "\n",
       "    .dataframe thead th {\n",
       "        text-align: right;\n",
       "    }\n",
       "</style>\n",
       "<table border=\"1\" class=\"dataframe\">\n",
       "  <thead>\n",
       "    <tr style=\"text-align: right;\">\n",
       "      <th></th>\n",
       "      <th>appid</th>\n",
       "      <th>name</th>\n",
       "    </tr>\n",
       "  </thead>\n",
       "  <tbody>\n",
       "    <tr>\n",
       "      <th>0</th>\n",
       "      <td>10</td>\n",
       "      <td>Counter-Strike</td>\n",
       "    </tr>\n",
       "    <tr>\n",
       "      <th>1</th>\n",
       "      <td>20</td>\n",
       "      <td>Team Fortress Classic</td>\n",
       "    </tr>\n",
       "  </tbody>\n",
       "</table>\n",
       "</div>"
      ],
      "text/plain": [
       "   appid                   name\n",
       "0     10         Counter-Strike\n",
       "1     20  Team Fortress Classic"
      ]
     },
     "execution_count": 42,
     "metadata": {},
     "output_type": "execute_result"
    }
   ],
   "source": [
    "info.head(2)"
   ]
  },
  {
   "cell_type": "code",
   "execution_count": 50,
   "id": "55a8dfaa",
   "metadata": {},
   "outputs": [],
   "source": [
    "info.to_csv('data.csv', index=False)"
   ]
  },
  {
   "cell_type": "code",
   "execution_count": 30,
   "id": "3fcc9c53",
   "metadata": {},
   "outputs": [],
   "source": [
    "from sklearn.metrics.pairwise import cosine_similarity"
   ]
  },
  {
   "cell_type": "code",
   "execution_count": 31,
   "id": "497db6e1",
   "metadata": {
    "scrolled": true
   },
   "outputs": [],
   "source": [
    "similarity = cosine_similarity(vectors)"
   ]
  },
  {
   "cell_type": "code",
   "execution_count": 32,
   "id": "6dc14a41",
   "metadata": {},
   "outputs": [],
   "source": [
    "def recommend(game):\n",
    "    game_index = processed_df[processed_df['name'] == game]\n",
    "    if game_index.shape[0] == 0:\n",
    "        print(\"No Game Found\")\n",
    "        return\n",
    "    game_index = game_index.index[0]\n",
    "    distances = similarity[game_index]\n",
    "    game_list = sorted(list(enumerate(distances)), reverse=True, key=lambda x:x[1])[1:11]\n",
    "    \n",
    "    for i in game_list:\n",
    "        print(processed_df.iloc[i[0]]['name'])"
   ]
  },
  {
   "cell_type": "code",
   "execution_count": 33,
   "id": "e49ab9b4",
   "metadata": {
    "scrolled": true
   },
   "outputs": [
    {
     "name": "stdout",
     "output_type": "stream",
     "text": [
      "Counter-Strike: Condition Zero\n",
      "Counter-Strike: Source\n",
      "Deathmatch Classic\n",
      "Team Fortress Classic\n",
      "Half-Life Deathmatch: Source\n",
      "QUAKE III: Team Arena\n",
      "Call of Duty® 4: Modern Warfare®\n",
      "Battlefield: Bad Company™ 2\n",
      "Counter-Strike: Global Offensive\n",
      "QUAKE Mission Pack 2: Dissolution of Eternity\n"
     ]
    }
   ],
   "source": [
    "recommend('Counter-Strike')"
   ]
  },
  {
   "cell_type": "code",
   "execution_count": 34,
   "id": "a66c8a8e",
   "metadata": {},
   "outputs": [],
   "source": [
    "import pickle"
   ]
  },
  {
   "cell_type": "code",
   "execution_count": 35,
   "id": "cfc31c30",
   "metadata": {},
   "outputs": [],
   "source": [
    "pickle.dump(processed_df.to_dict(), open('processed_df_dump.pkl', 'wb'))"
   ]
  },
  {
   "cell_type": "code",
   "execution_count": 36,
   "id": "da8aa5d6",
   "metadata": {},
   "outputs": [],
   "source": [
    "pickle.dump(similarity, open('similarity_dump.pkl', 'wb'))"
   ]
  },
  {
   "cell_type": "code",
   "execution_count": 37,
   "id": "b993f547",
   "metadata": {},
   "outputs": [],
   "source": [
    "pickle.dump(vectors, open('vectors_dump.pkl', 'wb'))"
   ]
  },
  {
   "cell_type": "code",
   "execution_count": 38,
   "id": "4922dbaf",
   "metadata": {},
   "outputs": [],
   "source": [
    "myVectors = pickle.load(open('vectors_dump.pkl', 'rb'))"
   ]
  },
  {
   "cell_type": "code",
   "execution_count": 39,
   "id": "5ed4875b",
   "metadata": {},
   "outputs": [],
   "source": [
    "myVector = myVectors[0]"
   ]
  },
  {
   "cell_type": "code",
   "execution_count": 40,
   "id": "89ef8c95",
   "metadata": {},
   "outputs": [],
   "source": [
    "from numpy.linalg import norm"
   ]
  },
  {
   "cell_type": "code",
   "execution_count": 41,
   "id": "1232a06d",
   "metadata": {
    "scrolled": true
   },
   "outputs": [
    {
     "name": "stdout",
     "output_type": "stream",
     "text": [
      "Counter-Strike: Condition Zero\n",
      "Counter-Strike: Source\n",
      "Deathmatch Classic\n",
      "Team Fortress Classic\n",
      "Half-Life Deathmatch: Source\n",
      "QUAKE III: Team Arena\n",
      "Call of Duty® 4: Modern Warfare®\n",
      "Battlefield: Bad Company™ 2\n",
      "Counter-Strike: Global Offensive\n",
      "QUAKE Mission Pack 2: Dissolution of Eternity\n"
     ]
    }
   ],
   "source": [
    "distances = np.dot(myVectors,myVector)/(norm(myVectors, axis=1)*norm(myVectors))\n",
    "\n",
    "game_list = sorted(list(enumerate(distances)), reverse=True, key=lambda x:x[1])[1:11]   \n",
    "\n",
    "for i in game_list:\n",
    "    print(processed_df.iloc[i[0]]['name'])"
   ]
  }
 ],
 "metadata": {
  "kernelspec": {
   "display_name": "Python 3 (ipykernel)",
   "language": "python",
   "name": "python3"
  },
  "language_info": {
   "codemirror_mode": {
    "name": "ipython",
    "version": 3
   },
   "file_extension": ".py",
   "mimetype": "text/x-python",
   "name": "python",
   "nbconvert_exporter": "python",
   "pygments_lexer": "ipython3",
   "version": "3.9.1"
  }
 },
 "nbformat": 4,
 "nbformat_minor": 5
}
