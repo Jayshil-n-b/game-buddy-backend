{
 "cells": [
  {
   "cell_type": "code",
   "execution_count": 103,
   "id": "c09ef385",
   "metadata": {},
   "outputs": [],
   "source": [
    "import numpy as np\n",
    "import pandas as pd"
   ]
  },
  {
   "cell_type": "code",
   "execution_count": 104,
   "id": "15db242b",
   "metadata": {},
   "outputs": [],
   "source": [
    "gameData = pd.read_csv('steam.csv')"
   ]
  },
  {
   "cell_type": "code",
   "execution_count": 105,
   "id": "60e2a9a8",
   "metadata": {},
   "outputs": [
    {
     "data": {
      "text/html": [
       "<div>\n",
       "<style scoped>\n",
       "    .dataframe tbody tr th:only-of-type {\n",
       "        vertical-align: middle;\n",
       "    }\n",
       "\n",
       "    .dataframe tbody tr th {\n",
       "        vertical-align: top;\n",
       "    }\n",
       "\n",
       "    .dataframe thead th {\n",
       "        text-align: right;\n",
       "    }\n",
       "</style>\n",
       "<table border=\"1\" class=\"dataframe\">\n",
       "  <thead>\n",
       "    <tr style=\"text-align: right;\">\n",
       "      <th></th>\n",
       "      <th>appid</th>\n",
       "      <th>name</th>\n",
       "      <th>release_date</th>\n",
       "      <th>english</th>\n",
       "      <th>developer</th>\n",
       "      <th>publisher</th>\n",
       "      <th>platforms</th>\n",
       "      <th>required_age</th>\n",
       "      <th>categories</th>\n",
       "      <th>genres</th>\n",
       "      <th>steamspy_tags</th>\n",
       "      <th>achievements</th>\n",
       "      <th>positive_ratings</th>\n",
       "      <th>negative_ratings</th>\n",
       "      <th>average_playtime</th>\n",
       "      <th>median_playtime</th>\n",
       "      <th>owners</th>\n",
       "      <th>price</th>\n",
       "    </tr>\n",
       "  </thead>\n",
       "  <tbody>\n",
       "    <tr>\n",
       "      <th>0</th>\n",
       "      <td>10</td>\n",
       "      <td>Counter-Strike</td>\n",
       "      <td>2000-11-01</td>\n",
       "      <td>1</td>\n",
       "      <td>Valve</td>\n",
       "      <td>Valve</td>\n",
       "      <td>windows;mac;linux</td>\n",
       "      <td>0</td>\n",
       "      <td>Multi-player;Online Multi-Player;Local Multi-P...</td>\n",
       "      <td>Action</td>\n",
       "      <td>Action;FPS;Multiplayer</td>\n",
       "      <td>0</td>\n",
       "      <td>124534</td>\n",
       "      <td>3339</td>\n",
       "      <td>17612</td>\n",
       "      <td>317</td>\n",
       "      <td>10000000-20000000</td>\n",
       "      <td>7.19</td>\n",
       "    </tr>\n",
       "    <tr>\n",
       "      <th>1</th>\n",
       "      <td>20</td>\n",
       "      <td>Team Fortress Classic</td>\n",
       "      <td>1999-04-01</td>\n",
       "      <td>1</td>\n",
       "      <td>Valve</td>\n",
       "      <td>Valve</td>\n",
       "      <td>windows;mac;linux</td>\n",
       "      <td>0</td>\n",
       "      <td>Multi-player;Online Multi-Player;Local Multi-P...</td>\n",
       "      <td>Action</td>\n",
       "      <td>Action;FPS;Multiplayer</td>\n",
       "      <td>0</td>\n",
       "      <td>3318</td>\n",
       "      <td>633</td>\n",
       "      <td>277</td>\n",
       "      <td>62</td>\n",
       "      <td>5000000-10000000</td>\n",
       "      <td>3.99</td>\n",
       "    </tr>\n",
       "  </tbody>\n",
       "</table>\n",
       "</div>"
      ],
      "text/plain": [
       "   appid                   name release_date  english developer publisher  \\\n",
       "0     10         Counter-Strike   2000-11-01        1     Valve     Valve   \n",
       "1     20  Team Fortress Classic   1999-04-01        1     Valve     Valve   \n",
       "\n",
       "           platforms  required_age  \\\n",
       "0  windows;mac;linux             0   \n",
       "1  windows;mac;linux             0   \n",
       "\n",
       "                                          categories  genres  \\\n",
       "0  Multi-player;Online Multi-Player;Local Multi-P...  Action   \n",
       "1  Multi-player;Online Multi-Player;Local Multi-P...  Action   \n",
       "\n",
       "            steamspy_tags  achievements  positive_ratings  negative_ratings  \\\n",
       "0  Action;FPS;Multiplayer             0            124534              3339   \n",
       "1  Action;FPS;Multiplayer             0              3318               633   \n",
       "\n",
       "   average_playtime  median_playtime             owners  price  \n",
       "0             17612              317  10000000-20000000   7.19  \n",
       "1               277               62   5000000-10000000   3.99  "
      ]
     },
     "execution_count": 105,
     "metadata": {},
     "output_type": "execute_result"
    }
   ],
   "source": [
    "gameData.head(2)"
   ]
  },
  {
   "cell_type": "code",
   "execution_count": 106,
   "id": "893e6a67",
   "metadata": {},
   "outputs": [],
   "source": [
    "gameDescription = pd.read_csv('steam_description_data.csv')"
   ]
  },
  {
   "cell_type": "code",
   "execution_count": 107,
   "id": "8d7bc8a2",
   "metadata": {},
   "outputs": [
    {
     "data": {
      "text/html": [
       "<div>\n",
       "<style scoped>\n",
       "    .dataframe tbody tr th:only-of-type {\n",
       "        vertical-align: middle;\n",
       "    }\n",
       "\n",
       "    .dataframe tbody tr th {\n",
       "        vertical-align: top;\n",
       "    }\n",
       "\n",
       "    .dataframe thead th {\n",
       "        text-align: right;\n",
       "    }\n",
       "</style>\n",
       "<table border=\"1\" class=\"dataframe\">\n",
       "  <thead>\n",
       "    <tr style=\"text-align: right;\">\n",
       "      <th></th>\n",
       "      <th>steam_appid</th>\n",
       "      <th>detailed_description</th>\n",
       "      <th>about_the_game</th>\n",
       "      <th>short_description</th>\n",
       "    </tr>\n",
       "  </thead>\n",
       "  <tbody>\n",
       "    <tr>\n",
       "      <th>0</th>\n",
       "      <td>10</td>\n",
       "      <td>Play the world's number 1 online action game. ...</td>\n",
       "      <td>Play the world's number 1 online action game. ...</td>\n",
       "      <td>Play the world's number 1 online action game. ...</td>\n",
       "    </tr>\n",
       "    <tr>\n",
       "      <th>1</th>\n",
       "      <td>20</td>\n",
       "      <td>One of the most popular online action games of...</td>\n",
       "      <td>One of the most popular online action games of...</td>\n",
       "      <td>One of the most popular online action games of...</td>\n",
       "    </tr>\n",
       "  </tbody>\n",
       "</table>\n",
       "</div>"
      ],
      "text/plain": [
       "   steam_appid                               detailed_description  \\\n",
       "0           10  Play the world's number 1 online action game. ...   \n",
       "1           20  One of the most popular online action games of...   \n",
       "\n",
       "                                      about_the_game  \\\n",
       "0  Play the world's number 1 online action game. ...   \n",
       "1  One of the most popular online action games of...   \n",
       "\n",
       "                                   short_description  \n",
       "0  Play the world's number 1 online action game. ...  \n",
       "1  One of the most popular online action games of...  "
      ]
     },
     "execution_count": 107,
     "metadata": {},
     "output_type": "execute_result"
    }
   ],
   "source": [
    "gameDescription.head(2)"
   ]
  },
  {
   "cell_type": "code",
   "execution_count": 108,
   "id": "13c94a79",
   "metadata": {},
   "outputs": [],
   "source": [
    "gameDescription.rename(columns = {'steam_appid':'appid'}, inplace = True)"
   ]
  },
  {
   "cell_type": "code",
   "execution_count": 109,
   "id": "65b1e1fc",
   "metadata": {},
   "outputs": [],
   "source": [
    "gameData = gameData.merge(gameDescription, on='appid')"
   ]
  },
  {
   "cell_type": "code",
   "execution_count": 110,
   "id": "44446ce5",
   "metadata": {},
   "outputs": [],
   "source": [
    "gameData.dropna(inplace=True)"
   ]
  },
  {
   "cell_type": "code",
   "execution_count": 111,
   "id": "f1031f64",
   "metadata": {},
   "outputs": [
    {
     "data": {
      "text/plain": [
       "(27075, 21)"
      ]
     },
     "execution_count": 111,
     "metadata": {},
     "output_type": "execute_result"
    }
   ],
   "source": [
    "gameData.shape"
   ]
  },
  {
   "cell_type": "code",
   "execution_count": 112,
   "id": "a2f2fba4",
   "metadata": {},
   "outputs": [
    {
     "data": {
      "text/plain": [
       "0"
      ]
     },
     "execution_count": 112,
     "metadata": {},
     "output_type": "execute_result"
    }
   ],
   "source": [
    "gameData.duplicated().sum()"
   ]
  },
  {
   "cell_type": "code",
   "execution_count": 113,
   "id": "59dcebb0",
   "metadata": {},
   "outputs": [
    {
     "name": "stdout",
     "output_type": "stream",
     "text": [
      "<class 'pandas.core.frame.DataFrame'>\n",
      "Int64Index: 27075 entries, 0 to 27074\n",
      "Data columns (total 21 columns):\n",
      " #   Column                Non-Null Count  Dtype  \n",
      "---  ------                --------------  -----  \n",
      " 0   appid                 27075 non-null  int64  \n",
      " 1   name                  27075 non-null  object \n",
      " 2   release_date          27075 non-null  object \n",
      " 3   english               27075 non-null  int64  \n",
      " 4   developer             27075 non-null  object \n",
      " 5   publisher             27075 non-null  object \n",
      " 6   platforms             27075 non-null  object \n",
      " 7   required_age          27075 non-null  int64  \n",
      " 8   categories            27075 non-null  object \n",
      " 9   genres                27075 non-null  object \n",
      " 10  steamspy_tags         27075 non-null  object \n",
      " 11  achievements          27075 non-null  int64  \n",
      " 12  positive_ratings      27075 non-null  int64  \n",
      " 13  negative_ratings      27075 non-null  int64  \n",
      " 14  average_playtime      27075 non-null  int64  \n",
      " 15  median_playtime       27075 non-null  int64  \n",
      " 16  owners                27075 non-null  object \n",
      " 17  price                 27075 non-null  float64\n",
      " 18  detailed_description  27075 non-null  object \n",
      " 19  about_the_game        27075 non-null  object \n",
      " 20  short_description     27075 non-null  object \n",
      "dtypes: float64(1), int64(8), object(12)\n",
      "memory usage: 4.5+ MB\n"
     ]
    }
   ],
   "source": [
    "gameData.info()"
   ]
  },
  {
   "cell_type": "code",
   "execution_count": 115,
   "id": "ec15d46e",
   "metadata": {},
   "outputs": [],
   "source": [
    "gameData = gameData[['appid', 'name', 'release_date', 'developer', 'categories', 'genres', 'steamspy_tags', 'short_description']]"
   ]
  },
  {
   "cell_type": "code",
   "execution_count": 116,
   "id": "70ae7ebc",
   "metadata": {},
   "outputs": [],
   "source": [
    "def cleanDate(x):\n",
    "    return x[0:4]"
   ]
  },
  {
   "cell_type": "code",
   "execution_count": 117,
   "id": "7a19e448",
   "metadata": {},
   "outputs": [
    {
     "name": "stderr",
     "output_type": "stream",
     "text": [
      "C:\\Users\\JNB\\AppData\\Local\\Temp\\ipykernel_10924\\2876402306.py:1: SettingWithCopyWarning: \n",
      "A value is trying to be set on a copy of a slice from a DataFrame.\n",
      "Try using .loc[row_indexer,col_indexer] = value instead\n",
      "\n",
      "See the caveats in the documentation: https://pandas.pydata.org/pandas-docs/stable/user_guide/indexing.html#returning-a-view-versus-a-copy\n",
      "  gameData['release_date'] = gameData['release_date'].apply(cleanDate)\n"
     ]
    }
   ],
   "source": [
    "gameData['release_date'] = gameData['release_date'].apply(cleanDate)"
   ]
  },
  {
   "cell_type": "code",
   "execution_count": 118,
   "id": "561657d8",
   "metadata": {
    "scrolled": true
   },
   "outputs": [
    {
     "data": {
      "text/html": [
       "<div>\n",
       "<style scoped>\n",
       "    .dataframe tbody tr th:only-of-type {\n",
       "        vertical-align: middle;\n",
       "    }\n",
       "\n",
       "    .dataframe tbody tr th {\n",
       "        vertical-align: top;\n",
       "    }\n",
       "\n",
       "    .dataframe thead th {\n",
       "        text-align: right;\n",
       "    }\n",
       "</style>\n",
       "<table border=\"1\" class=\"dataframe\">\n",
       "  <thead>\n",
       "    <tr style=\"text-align: right;\">\n",
       "      <th></th>\n",
       "      <th>appid</th>\n",
       "      <th>name</th>\n",
       "      <th>release_date</th>\n",
       "      <th>developer</th>\n",
       "      <th>categories</th>\n",
       "      <th>genres</th>\n",
       "      <th>steamspy_tags</th>\n",
       "      <th>short_description</th>\n",
       "    </tr>\n",
       "  </thead>\n",
       "  <tbody>\n",
       "    <tr>\n",
       "      <th>0</th>\n",
       "      <td>10</td>\n",
       "      <td>Counter-Strike</td>\n",
       "      <td>2000</td>\n",
       "      <td>Valve</td>\n",
       "      <td>Multi-player;Online Multi-Player;Local Multi-P...</td>\n",
       "      <td>Action</td>\n",
       "      <td>Action;FPS;Multiplayer</td>\n",
       "      <td>Play the world's number 1 online action game. ...</td>\n",
       "    </tr>\n",
       "    <tr>\n",
       "      <th>1</th>\n",
       "      <td>20</td>\n",
       "      <td>Team Fortress Classic</td>\n",
       "      <td>1999</td>\n",
       "      <td>Valve</td>\n",
       "      <td>Multi-player;Online Multi-Player;Local Multi-P...</td>\n",
       "      <td>Action</td>\n",
       "      <td>Action;FPS;Multiplayer</td>\n",
       "      <td>One of the most popular online action games of...</td>\n",
       "    </tr>\n",
       "  </tbody>\n",
       "</table>\n",
       "</div>"
      ],
      "text/plain": [
       "   appid                   name release_date developer  \\\n",
       "0     10         Counter-Strike         2000     Valve   \n",
       "1     20  Team Fortress Classic         1999     Valve   \n",
       "\n",
       "                                          categories  genres  \\\n",
       "0  Multi-player;Online Multi-Player;Local Multi-P...  Action   \n",
       "1  Multi-player;Online Multi-Player;Local Multi-P...  Action   \n",
       "\n",
       "            steamspy_tags                                  short_description  \n",
       "0  Action;FPS;Multiplayer  Play the world's number 1 online action game. ...  \n",
       "1  Action;FPS;Multiplayer  One of the most popular online action games of...  "
      ]
     },
     "execution_count": 118,
     "metadata": {},
     "output_type": "execute_result"
    }
   ],
   "source": [
    "gameData.head(2)"
   ]
  },
  {
   "cell_type": "code",
   "execution_count": 119,
   "id": "faba9fda",
   "metadata": {},
   "outputs": [
    {
     "name": "stderr",
     "output_type": "stream",
     "text": [
      "C:\\Users\\JNB\\AppData\\Local\\Temp\\ipykernel_10924\\1896636937.py:1: SettingWithCopyWarning: \n",
      "A value is trying to be set on a copy of a slice from a DataFrame\n",
      "\n",
      "See the caveats in the documentation: https://pandas.pydata.org/pandas-docs/stable/user_guide/indexing.html#returning-a-view-versus-a-copy\n",
      "  gameData.rename(columns = {'release_date':'release_year'}, inplace = True)\n"
     ]
    }
   ],
   "source": [
    "gameData.rename(columns = {'release_date':'release_year'}, inplace = True)"
   ]
  },
  {
   "cell_type": "code",
   "execution_count": 120,
   "id": "359bad97",
   "metadata": {},
   "outputs": [
    {
     "name": "stderr",
     "output_type": "stream",
     "text": [
      "C:\\Users\\JNB\\AppData\\Local\\Temp\\ipykernel_10924\\1097125806.py:4: SettingWithCopyWarning: \n",
      "A value is trying to be set on a copy of a slice from a DataFrame.\n",
      "Try using .loc[row_indexer,col_indexer] = value instead\n",
      "\n",
      "See the caveats in the documentation: https://pandas.pydata.org/pandas-docs/stable/user_guide/indexing.html#returning-a-view-versus-a-copy\n",
      "  gameData['categories'] = gameData['categories'].apply(lambda x:x.split(';'))\n"
     ]
    }
   ],
   "source": [
    "# gameData['categories'].apply(lambda x:x.replace(\" \", \"-\"))\n",
    "# gameData['categories'].apply(lambda x:x.replace(\"-\", \"\"))\n",
    "# gameData['categories'].apply(lambda x:x.replace(\";\", \" \"))\n",
    "gameData['categories'] = gameData['categories'].apply(lambda x:x.split(';'))\n",
    "# gameData['categories'].apply(lambda x:x.lower())"
   ]
  },
  {
   "cell_type": "code",
   "execution_count": 121,
   "id": "31c6550b",
   "metadata": {},
   "outputs": [
    {
     "data": {
      "text/html": [
       "<div>\n",
       "<style scoped>\n",
       "    .dataframe tbody tr th:only-of-type {\n",
       "        vertical-align: middle;\n",
       "    }\n",
       "\n",
       "    .dataframe tbody tr th {\n",
       "        vertical-align: top;\n",
       "    }\n",
       "\n",
       "    .dataframe thead th {\n",
       "        text-align: right;\n",
       "    }\n",
       "</style>\n",
       "<table border=\"1\" class=\"dataframe\">\n",
       "  <thead>\n",
       "    <tr style=\"text-align: right;\">\n",
       "      <th></th>\n",
       "      <th>appid</th>\n",
       "      <th>name</th>\n",
       "      <th>release_year</th>\n",
       "      <th>developer</th>\n",
       "      <th>categories</th>\n",
       "      <th>genres</th>\n",
       "      <th>steamspy_tags</th>\n",
       "      <th>short_description</th>\n",
       "    </tr>\n",
       "  </thead>\n",
       "  <tbody>\n",
       "    <tr>\n",
       "      <th>0</th>\n",
       "      <td>10</td>\n",
       "      <td>Counter-Strike</td>\n",
       "      <td>2000</td>\n",
       "      <td>Valve</td>\n",
       "      <td>[Multi-player, Online Multi-Player, Local Mult...</td>\n",
       "      <td>Action</td>\n",
       "      <td>Action;FPS;Multiplayer</td>\n",
       "      <td>Play the world's number 1 online action game. ...</td>\n",
       "    </tr>\n",
       "    <tr>\n",
       "      <th>1</th>\n",
       "      <td>20</td>\n",
       "      <td>Team Fortress Classic</td>\n",
       "      <td>1999</td>\n",
       "      <td>Valve</td>\n",
       "      <td>[Multi-player, Online Multi-Player, Local Mult...</td>\n",
       "      <td>Action</td>\n",
       "      <td>Action;FPS;Multiplayer</td>\n",
       "      <td>One of the most popular online action games of...</td>\n",
       "    </tr>\n",
       "  </tbody>\n",
       "</table>\n",
       "</div>"
      ],
      "text/plain": [
       "   appid                   name release_year developer  \\\n",
       "0     10         Counter-Strike         2000     Valve   \n",
       "1     20  Team Fortress Classic         1999     Valve   \n",
       "\n",
       "                                          categories  genres  \\\n",
       "0  [Multi-player, Online Multi-Player, Local Mult...  Action   \n",
       "1  [Multi-player, Online Multi-Player, Local Mult...  Action   \n",
       "\n",
       "            steamspy_tags                                  short_description  \n",
       "0  Action;FPS;Multiplayer  Play the world's number 1 online action game. ...  \n",
       "1  Action;FPS;Multiplayer  One of the most popular online action games of...  "
      ]
     },
     "execution_count": 121,
     "metadata": {},
     "output_type": "execute_result"
    }
   ],
   "source": [
    "gameData.head(2)"
   ]
  },
  {
   "cell_type": "code",
   "execution_count": 122,
   "id": "e9737fab",
   "metadata": {},
   "outputs": [
    {
     "name": "stderr",
     "output_type": "stream",
     "text": [
      "C:\\Users\\JNB\\AppData\\Local\\Temp\\ipykernel_10924\\1531121870.py:1: SettingWithCopyWarning: \n",
      "A value is trying to be set on a copy of a slice from a DataFrame.\n",
      "Try using .loc[row_indexer,col_indexer] = value instead\n",
      "\n",
      "See the caveats in the documentation: https://pandas.pydata.org/pandas-docs/stable/user_guide/indexing.html#returning-a-view-versus-a-copy\n",
      "  gameData['genres'] = gameData['genres'].apply(lambda x:x.split(';'))\n",
      "C:\\Users\\JNB\\AppData\\Local\\Temp\\ipykernel_10924\\1531121870.py:2: SettingWithCopyWarning: \n",
      "A value is trying to be set on a copy of a slice from a DataFrame.\n",
      "Try using .loc[row_indexer,col_indexer] = value instead\n",
      "\n",
      "See the caveats in the documentation: https://pandas.pydata.org/pandas-docs/stable/user_guide/indexing.html#returning-a-view-versus-a-copy\n",
      "  gameData['steamspy_tags'] = gameData['steamspy_tags'].apply(lambda x:x.split(';'))\n"
     ]
    }
   ],
   "source": [
    "gameData['genres'] = gameData['genres'].apply(lambda x:x.split(';'))\n",
    "gameData['steamspy_tags'] = gameData['steamspy_tags'].apply(lambda x:x.split(';'))"
   ]
  },
  {
   "cell_type": "code",
   "execution_count": 123,
   "id": "df43c63a",
   "metadata": {},
   "outputs": [
    {
     "name": "stderr",
     "output_type": "stream",
     "text": [
      "C:\\Users\\JNB\\AppData\\Local\\Temp\\ipykernel_10924\\342682077.py:1: SettingWithCopyWarning: \n",
      "A value is trying to be set on a copy of a slice from a DataFrame.\n",
      "Try using .loc[row_indexer,col_indexer] = value instead\n",
      "\n",
      "See the caveats in the documentation: https://pandas.pydata.org/pandas-docs/stable/user_guide/indexing.html#returning-a-view-versus-a-copy\n",
      "  gameData['categories'] = gameData['categories'].apply(lambda x:[i.replace(\" \", \"-\") for i in x])\n",
      "C:\\Users\\JNB\\AppData\\Local\\Temp\\ipykernel_10924\\342682077.py:2: SettingWithCopyWarning: \n",
      "A value is trying to be set on a copy of a slice from a DataFrame.\n",
      "Try using .loc[row_indexer,col_indexer] = value instead\n",
      "\n",
      "See the caveats in the documentation: https://pandas.pydata.org/pandas-docs/stable/user_guide/indexing.html#returning-a-view-versus-a-copy\n",
      "  gameData['genres'] = gameData['genres'].apply(lambda x:[i.replace(\" \", \"-\") for i in x])\n",
      "C:\\Users\\JNB\\AppData\\Local\\Temp\\ipykernel_10924\\342682077.py:3: SettingWithCopyWarning: \n",
      "A value is trying to be set on a copy of a slice from a DataFrame.\n",
      "Try using .loc[row_indexer,col_indexer] = value instead\n",
      "\n",
      "See the caveats in the documentation: https://pandas.pydata.org/pandas-docs/stable/user_guide/indexing.html#returning-a-view-versus-a-copy\n",
      "  gameData['steamspy_tags'] = gameData['steamspy_tags'].apply(lambda x:[i.replace(\" \", \"-\") for i in x])\n"
     ]
    }
   ],
   "source": [
    "gameData['categories'] = gameData['categories'].apply(lambda x:[i.replace(\" \", \"-\") for i in x])\n",
    "gameData['genres'] = gameData['genres'].apply(lambda x:[i.replace(\" \", \"-\") for i in x])\n",
    "gameData['steamspy_tags'] = gameData['steamspy_tags'].apply(lambda x:[i.replace(\" \", \"-\") for i in x])"
   ]
  },
  {
   "cell_type": "code",
   "execution_count": 124,
   "id": "23ebdfad",
   "metadata": {},
   "outputs": [
    {
     "name": "stderr",
     "output_type": "stream",
     "text": [
      "C:\\Users\\JNB\\AppData\\Local\\Temp\\ipykernel_10924\\331762931.py:1: SettingWithCopyWarning: \n",
      "A value is trying to be set on a copy of a slice from a DataFrame.\n",
      "Try using .loc[row_indexer,col_indexer] = value instead\n",
      "\n",
      "See the caveats in the documentation: https://pandas.pydata.org/pandas-docs/stable/user_guide/indexing.html#returning-a-view-versus-a-copy\n",
      "  gameData['short_description'] = gameData['short_description'].apply(lambda x:x.split())\n"
     ]
    }
   ],
   "source": [
    "gameData['short_description'] = gameData['short_description'].apply(lambda x:x.split())"
   ]
  },
  {
   "cell_type": "code",
   "execution_count": 125,
   "id": "5ea286a8",
   "metadata": {},
   "outputs": [
    {
     "name": "stderr",
     "output_type": "stream",
     "text": [
      "C:\\Users\\JNB\\AppData\\Local\\Temp\\ipykernel_10924\\1789712137.py:1: SettingWithCopyWarning: \n",
      "A value is trying to be set on a copy of a slice from a DataFrame.\n",
      "Try using .loc[row_indexer,col_indexer] = value instead\n",
      "\n",
      "See the caveats in the documentation: https://pandas.pydata.org/pandas-docs/stable/user_guide/indexing.html#returning-a-view-versus-a-copy\n",
      "  gameData['categories'] = gameData['categories'].apply(lambda x:[i.lower() for i in x])\n",
      "C:\\Users\\JNB\\AppData\\Local\\Temp\\ipykernel_10924\\1789712137.py:2: SettingWithCopyWarning: \n",
      "A value is trying to be set on a copy of a slice from a DataFrame.\n",
      "Try using .loc[row_indexer,col_indexer] = value instead\n",
      "\n",
      "See the caveats in the documentation: https://pandas.pydata.org/pandas-docs/stable/user_guide/indexing.html#returning-a-view-versus-a-copy\n",
      "  gameData['genres'] = gameData['genres'].apply(lambda x:[i.lower() for i in x])\n",
      "C:\\Users\\JNB\\AppData\\Local\\Temp\\ipykernel_10924\\1789712137.py:3: SettingWithCopyWarning: \n",
      "A value is trying to be set on a copy of a slice from a DataFrame.\n",
      "Try using .loc[row_indexer,col_indexer] = value instead\n",
      "\n",
      "See the caveats in the documentation: https://pandas.pydata.org/pandas-docs/stable/user_guide/indexing.html#returning-a-view-versus-a-copy\n",
      "  gameData['steamspy_tags'] = gameData['steamspy_tags'].apply(lambda x:[i.lower() for i in x])\n"
     ]
    }
   ],
   "source": [
    "gameData['categories'] = gameData['categories'].apply(lambda x:[i.lower() for i in x])\n",
    "gameData['genres'] = gameData['genres'].apply(lambda x:[i.lower() for i in x])\n",
    "gameData['steamspy_tags'] = gameData['steamspy_tags'].apply(lambda x:[i.lower() for i in x])"
   ]
  },
  {
   "cell_type": "code",
   "execution_count": 126,
   "id": "f61dc304",
   "metadata": {},
   "outputs": [
    {
     "data": {
      "text/html": [
       "<div>\n",
       "<style scoped>\n",
       "    .dataframe tbody tr th:only-of-type {\n",
       "        vertical-align: middle;\n",
       "    }\n",
       "\n",
       "    .dataframe tbody tr th {\n",
       "        vertical-align: top;\n",
       "    }\n",
       "\n",
       "    .dataframe thead th {\n",
       "        text-align: right;\n",
       "    }\n",
       "</style>\n",
       "<table border=\"1\" class=\"dataframe\">\n",
       "  <thead>\n",
       "    <tr style=\"text-align: right;\">\n",
       "      <th></th>\n",
       "      <th>appid</th>\n",
       "      <th>name</th>\n",
       "      <th>release_year</th>\n",
       "      <th>developer</th>\n",
       "      <th>categories</th>\n",
       "      <th>genres</th>\n",
       "      <th>steamspy_tags</th>\n",
       "      <th>short_description</th>\n",
       "    </tr>\n",
       "  </thead>\n",
       "  <tbody>\n",
       "    <tr>\n",
       "      <th>0</th>\n",
       "      <td>10</td>\n",
       "      <td>Counter-Strike</td>\n",
       "      <td>2000</td>\n",
       "      <td>Valve</td>\n",
       "      <td>[multi-player, online-multi-player, local-mult...</td>\n",
       "      <td>[action]</td>\n",
       "      <td>[action, fps, multiplayer]</td>\n",
       "      <td>[Play, the, world's, number, 1, online, action...</td>\n",
       "    </tr>\n",
       "    <tr>\n",
       "      <th>1</th>\n",
       "      <td>20</td>\n",
       "      <td>Team Fortress Classic</td>\n",
       "      <td>1999</td>\n",
       "      <td>Valve</td>\n",
       "      <td>[multi-player, online-multi-player, local-mult...</td>\n",
       "      <td>[action]</td>\n",
       "      <td>[action, fps, multiplayer]</td>\n",
       "      <td>[One, of, the, most, popular, online, action, ...</td>\n",
       "    </tr>\n",
       "  </tbody>\n",
       "</table>\n",
       "</div>"
      ],
      "text/plain": [
       "   appid                   name release_year developer  \\\n",
       "0     10         Counter-Strike         2000     Valve   \n",
       "1     20  Team Fortress Classic         1999     Valve   \n",
       "\n",
       "                                          categories    genres  \\\n",
       "0  [multi-player, online-multi-player, local-mult...  [action]   \n",
       "1  [multi-player, online-multi-player, local-mult...  [action]   \n",
       "\n",
       "                steamspy_tags  \\\n",
       "0  [action, fps, multiplayer]   \n",
       "1  [action, fps, multiplayer]   \n",
       "\n",
       "                                   short_description  \n",
       "0  [Play, the, world's, number, 1, online, action...  \n",
       "1  [One, of, the, most, popular, online, action, ...  "
      ]
     },
     "execution_count": 126,
     "metadata": {},
     "output_type": "execute_result"
    }
   ],
   "source": [
    "gameData.head(2)"
   ]
  },
  {
   "cell_type": "code",
   "execution_count": 127,
   "id": "cd10ffb6",
   "metadata": {},
   "outputs": [
    {
     "name": "stderr",
     "output_type": "stream",
     "text": [
      "C:\\Users\\JNB\\AppData\\Local\\Temp\\ipykernel_10924\\807136795.py:1: SettingWithCopyWarning: \n",
      "A value is trying to be set on a copy of a slice from a DataFrame.\n",
      "Try using .loc[row_indexer,col_indexer] = value instead\n",
      "\n",
      "See the caveats in the documentation: https://pandas.pydata.org/pandas-docs/stable/user_guide/indexing.html#returning-a-view-versus-a-copy\n",
      "  gameData['developer'] = gameData['developer'].apply(lambda x:x.lower())\n",
      "C:\\Users\\JNB\\AppData\\Local\\Temp\\ipykernel_10924\\807136795.py:2: SettingWithCopyWarning: \n",
      "A value is trying to be set on a copy of a slice from a DataFrame.\n",
      "Try using .loc[row_indexer,col_indexer] = value instead\n",
      "\n",
      "See the caveats in the documentation: https://pandas.pydata.org/pandas-docs/stable/user_guide/indexing.html#returning-a-view-versus-a-copy\n",
      "  gameData['short_description'] = gameData['short_description'].apply(lambda x:[i.lower() for i in x])\n",
      "C:\\Users\\JNB\\AppData\\Local\\Temp\\ipykernel_10924\\807136795.py:3: SettingWithCopyWarning: \n",
      "A value is trying to be set on a copy of a slice from a DataFrame.\n",
      "Try using .loc[row_indexer,col_indexer] = value instead\n",
      "\n",
      "See the caveats in the documentation: https://pandas.pydata.org/pandas-docs/stable/user_guide/indexing.html#returning-a-view-versus-a-copy\n",
      "  gameData['name'] = gameData['name'].apply(lambda x:x.lower())\n"
     ]
    }
   ],
   "source": [
    "gameData['developer'] = gameData['developer'].apply(lambda x:x.lower())\n",
    "gameData['short_description'] = gameData['short_description'].apply(lambda x:[i.lower() for i in x])\n",
    "gameData['name'] = gameData['name'].apply(lambda x:x.lower())"
   ]
  },
  {
   "cell_type": "code",
   "execution_count": null,
   "id": "7ab8694e",
   "metadata": {},
   "outputs": [],
   "source": [
    "gameData.head(2)"
   ]
  },
  {
   "cell_type": "code",
   "execution_count": null,
   "id": "0520936b",
   "metadata": {},
   "outputs": [],
   "source": []
  },
  {
   "cell_type": "code",
   "execution_count": null,
   "id": "99afb37e",
   "metadata": {},
   "outputs": [],
   "source": []
  }
 ],
 "metadata": {
  "kernelspec": {
   "display_name": "Python 3 (ipykernel)",
   "language": "python",
   "name": "python3"
  },
  "language_info": {
   "codemirror_mode": {
    "name": "ipython",
    "version": 3
   },
   "file_extension": ".py",
   "mimetype": "text/x-python",
   "name": "python",
   "nbconvert_exporter": "python",
   "pygments_lexer": "ipython3",
   "version": "3.9.1"
  }
 },
 "nbformat": 4,
 "nbformat_minor": 5
}
