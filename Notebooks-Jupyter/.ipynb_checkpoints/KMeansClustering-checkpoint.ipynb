{
 "cells": [
  {
   "cell_type": "code",
   "execution_count": 1,
   "id": "15c930cb",
   "metadata": {},
   "outputs": [],
   "source": [
    "import numpy as np\n",
    "import pandas as pd"
   ]
  },
  {
   "cell_type": "code",
   "execution_count": 2,
   "id": "4803118d",
   "metadata": {},
   "outputs": [],
   "source": [
    "df = pd.read_csv('../Datasets/steamspy_tag_data.csv')\n",
    "main_df = pd.read_csv('../Datasets/steam.csv')"
   ]
  },
  {
   "cell_type": "code",
   "execution_count": 3,
   "id": "896fd654",
   "metadata": {},
   "outputs": [],
   "source": [
    "df = df.merge(main_df[['appid', 'owners']], on='appid')"
   ]
  },
  {
   "cell_type": "code",
   "execution_count": 4,
   "id": "d83ebcdc",
   "metadata": {},
   "outputs": [],
   "source": [
    "df['owners'] = df['owners'].apply(lambda x:x.split('-'))\n",
    "df['owners'] = df['owners'].apply(lambda x:(x[0]))\n",
    "df['owners'] = df['owners'].apply(lambda x:int(x))\n",
    "df = df[df['owners'] >= 50000]"
   ]
  },
  {
   "cell_type": "code",
   "execution_count": 5,
   "id": "d930c7c4",
   "metadata": {},
   "outputs": [
    {
     "data": {
      "text/plain": [
       "(5420, 373)"
      ]
     },
     "execution_count": 5,
     "metadata": {},
     "output_type": "execute_result"
    }
   ],
   "source": [
    "df.shape"
   ]
  },
  {
   "cell_type": "code",
   "execution_count": 6,
   "id": "b1dd8e9d",
   "metadata": {
    "scrolled": true
   },
   "outputs": [],
   "source": [
    "df.dropna(inplace=True)\n",
    "df.duplicated().sum()\n",
    "df.drop(\"owners\", axis=1, inplace=True)"
   ]
  },
  {
   "cell_type": "code",
   "execution_count": 7,
   "id": "f1da86cb",
   "metadata": {},
   "outputs": [
    {
     "data": {
      "text/plain": [
       "(5420, 372)"
      ]
     },
     "execution_count": 7,
     "metadata": {},
     "output_type": "execute_result"
    }
   ],
   "source": [
    "df.shape"
   ]
  },
  {
   "cell_type": "code",
   "execution_count": 8,
   "id": "ade86ab4",
   "metadata": {},
   "outputs": [],
   "source": [
    "for col_name in df.columns: \n",
    "    if df[col_name].min() == 0 and df[col_name].max() == 0:\n",
    "        df.drop(col_name, axis=1, inplace=True)"
   ]
  },
  {
   "cell_type": "code",
   "execution_count": 9,
   "id": "7c791373",
   "metadata": {},
   "outputs": [
    {
     "data": {
      "text/plain": [
       "(5420, 366)"
      ]
     },
     "execution_count": 9,
     "metadata": {},
     "output_type": "execute_result"
    }
   ],
   "source": [
    "df.shape"
   ]
  },
  {
   "cell_type": "code",
   "execution_count": 10,
   "id": "cb36a363",
   "metadata": {
    "scrolled": false
   },
   "outputs": [],
   "source": [
    "cols_to_norm  = []\n",
    "for col_name in df.columns: \n",
    "    if col_name != 'appid':\n",
    "        cols_to_norm.append(col_name)"
   ]
  },
  {
   "cell_type": "code",
   "execution_count": 11,
   "id": "dda72e74",
   "metadata": {},
   "outputs": [],
   "source": [
    "from sklearn.preprocessing import StandardScaler"
   ]
  },
  {
   "cell_type": "code",
   "execution_count": 12,
   "id": "ad8e0edd",
   "metadata": {},
   "outputs": [],
   "source": [
    "df[cols_to_norm] = df[cols_to_norm].apply(lambda x: (x - x.min()) / (x.max() - x.min()))\n",
    "# df[cols_to_norm] = StandardScaler().fit_transform(df[cols_to_norm])\n",
    "# df[cols_to_norm] = df[cols_to_norm].apply(lambda x: x/x.abs().max())"
   ]
  },
  {
   "cell_type": "code",
   "execution_count": 13,
   "id": "a859ba6c",
   "metadata": {
    "scrolled": true
   },
   "outputs": [
    {
     "data": {
      "text/html": [
       "<div>\n",
       "<style scoped>\n",
       "    .dataframe tbody tr th:only-of-type {\n",
       "        vertical-align: middle;\n",
       "    }\n",
       "\n",
       "    .dataframe tbody tr th {\n",
       "        vertical-align: top;\n",
       "    }\n",
       "\n",
       "    .dataframe thead th {\n",
       "        text-align: right;\n",
       "    }\n",
       "</style>\n",
       "<table border=\"1\" class=\"dataframe\">\n",
       "  <thead>\n",
       "    <tr style=\"text-align: right;\">\n",
       "      <th></th>\n",
       "      <th>appid</th>\n",
       "      <th>1980s</th>\n",
       "      <th>1990s</th>\n",
       "      <th>2.5d</th>\n",
       "      <th>2d</th>\n",
       "      <th>2d_fighter</th>\n",
       "      <th>360_video</th>\n",
       "      <th>3d</th>\n",
       "      <th>3d_platformer</th>\n",
       "      <th>3d_vision</th>\n",
       "      <th>...</th>\n",
       "      <th>warhammer_40k</th>\n",
       "      <th>web_publishing</th>\n",
       "      <th>werewolves</th>\n",
       "      <th>western</th>\n",
       "      <th>word_game</th>\n",
       "      <th>world_war_i</th>\n",
       "      <th>world_war_ii</th>\n",
       "      <th>wrestling</th>\n",
       "      <th>zombies</th>\n",
       "      <th>e_sports</th>\n",
       "    </tr>\n",
       "  </thead>\n",
       "  <tbody>\n",
       "    <tr>\n",
       "      <th>0</th>\n",
       "      <td>10</td>\n",
       "      <td>0.150943</td>\n",
       "      <td>1.000000</td>\n",
       "      <td>0.0</td>\n",
       "      <td>0.0</td>\n",
       "      <td>0.0</td>\n",
       "      <td>0.0</td>\n",
       "      <td>0.0</td>\n",
       "      <td>0.0</td>\n",
       "      <td>0.0</td>\n",
       "      <td>...</td>\n",
       "      <td>0.0</td>\n",
       "      <td>0.0</td>\n",
       "      <td>0.0</td>\n",
       "      <td>0.0</td>\n",
       "      <td>0.0</td>\n",
       "      <td>0.000000</td>\n",
       "      <td>0.000000</td>\n",
       "      <td>0.0</td>\n",
       "      <td>0.0</td>\n",
       "      <td>0.065429</td>\n",
       "    </tr>\n",
       "    <tr>\n",
       "      <th>1</th>\n",
       "      <td>20</td>\n",
       "      <td>0.000000</td>\n",
       "      <td>0.125887</td>\n",
       "      <td>0.0</td>\n",
       "      <td>0.0</td>\n",
       "      <td>0.0</td>\n",
       "      <td>0.0</td>\n",
       "      <td>0.0</td>\n",
       "      <td>0.0</td>\n",
       "      <td>0.0</td>\n",
       "      <td>...</td>\n",
       "      <td>0.0</td>\n",
       "      <td>0.0</td>\n",
       "      <td>0.0</td>\n",
       "      <td>0.0</td>\n",
       "      <td>0.0</td>\n",
       "      <td>0.000000</td>\n",
       "      <td>0.000000</td>\n",
       "      <td>0.0</td>\n",
       "      <td>0.0</td>\n",
       "      <td>0.000000</td>\n",
       "    </tr>\n",
       "    <tr>\n",
       "      <th>2</th>\n",
       "      <td>30</td>\n",
       "      <td>0.000000</td>\n",
       "      <td>0.000000</td>\n",
       "      <td>0.0</td>\n",
       "      <td>0.0</td>\n",
       "      <td>0.0</td>\n",
       "      <td>0.0</td>\n",
       "      <td>0.0</td>\n",
       "      <td>0.0</td>\n",
       "      <td>0.0</td>\n",
       "      <td>...</td>\n",
       "      <td>0.0</td>\n",
       "      <td>0.0</td>\n",
       "      <td>0.0</td>\n",
       "      <td>0.0</td>\n",
       "      <td>0.0</td>\n",
       "      <td>0.006702</td>\n",
       "      <td>0.045235</td>\n",
       "      <td>0.0</td>\n",
       "      <td>0.0</td>\n",
       "      <td>0.000000</td>\n",
       "    </tr>\n",
       "  </tbody>\n",
       "</table>\n",
       "<p>3 rows × 366 columns</p>\n",
       "</div>"
      ],
      "text/plain": [
       "   appid     1980s     1990s  2.5d   2d  2d_fighter  360_video   3d  \\\n",
       "0     10  0.150943  1.000000   0.0  0.0         0.0        0.0  0.0   \n",
       "1     20  0.000000  0.125887   0.0  0.0         0.0        0.0  0.0   \n",
       "2     30  0.000000  0.000000   0.0  0.0         0.0        0.0  0.0   \n",
       "\n",
       "   3d_platformer  3d_vision  ...  warhammer_40k  web_publishing  werewolves  \\\n",
       "0            0.0        0.0  ...            0.0             0.0         0.0   \n",
       "1            0.0        0.0  ...            0.0             0.0         0.0   \n",
       "2            0.0        0.0  ...            0.0             0.0         0.0   \n",
       "\n",
       "   western  word_game  world_war_i  world_war_ii  wrestling  zombies  e_sports  \n",
       "0      0.0        0.0     0.000000      0.000000        0.0      0.0  0.065429  \n",
       "1      0.0        0.0     0.000000      0.000000        0.0      0.0  0.000000  \n",
       "2      0.0        0.0     0.006702      0.045235        0.0      0.0  0.000000  \n",
       "\n",
       "[3 rows x 366 columns]"
      ]
     },
     "execution_count": 13,
     "metadata": {},
     "output_type": "execute_result"
    }
   ],
   "source": [
    "df.head(3)"
   ]
  },
  {
   "cell_type": "code",
   "execution_count": 14,
   "id": "f0e14ea6",
   "metadata": {},
   "outputs": [],
   "source": [
    "from sklearn.cluster import KMeans"
   ]
  },
  {
   "cell_type": "code",
   "execution_count": 15,
   "id": "4b6d3977",
   "metadata": {},
   "outputs": [
    {
     "name": "stdout",
     "output_type": "stream",
     "text": [
      "Requirement already satisfied: yellowbrick in c:\\users\\jnb\\appdata\\local\\programs\\python\\python39\\lib\\site-packages (1.4)\n",
      "Requirement already satisfied: scipy>=1.0.0 in c:\\users\\jnb\\appdata\\local\\programs\\python\\python39\\lib\\site-packages (from yellowbrick) (1.8.0)\n",
      "Requirement already satisfied: numpy>=1.16.0 in c:\\users\\jnb\\appdata\\local\\programs\\python\\python39\\lib\\site-packages (from yellowbrick) (1.22.3)\n",
      "Requirement already satisfied: matplotlib!=3.0.0,>=2.0.2 in c:\\users\\jnb\\appdata\\local\\programs\\python\\python39\\lib\\site-packages (from yellowbrick) (3.5.2)\n",
      "Requirement already satisfied: scikit-learn>=1.0.0 in c:\\users\\jnb\\appdata\\local\\programs\\python\\python39\\lib\\site-packages (from yellowbrick) (1.0.2)\n",
      "Requirement already satisfied: cycler>=0.10.0 in c:\\users\\jnb\\appdata\\local\\programs\\python\\python39\\lib\\site-packages (from yellowbrick) (0.11.0)\n",
      "Requirement already satisfied: packaging>=20.0 in c:\\users\\jnb\\appdata\\local\\programs\\python\\python39\\lib\\site-packages (from matplotlib!=3.0.0,>=2.0.2->yellowbrick) (21.3)\n",
      "Requirement already satisfied: pillow>=6.2.0 in c:\\users\\jnb\\appdata\\local\\programs\\python\\python39\\lib\\site-packages (from matplotlib!=3.0.0,>=2.0.2->yellowbrick) (9.1.0)\n",
      "Requirement already satisfied: python-dateutil>=2.7 in c:\\users\\jnb\\appdata\\local\\programs\\python\\python39\\lib\\site-packages (from matplotlib!=3.0.0,>=2.0.2->yellowbrick) (2.8.2)\n",
      "Requirement already satisfied: fonttools>=4.22.0 in c:\\users\\jnb\\appdata\\local\\programs\\python\\python39\\lib\\site-packages (from matplotlib!=3.0.0,>=2.0.2->yellowbrick) (4.33.3)\n",
      "Requirement already satisfied: kiwisolver>=1.0.1 in c:\\users\\jnb\\appdata\\local\\programs\\python\\python39\\lib\\site-packages (from matplotlib!=3.0.0,>=2.0.2->yellowbrick) (1.4.2)\n",
      "Requirement already satisfied: pyparsing>=2.2.1 in c:\\users\\jnb\\appdata\\local\\programs\\python\\python39\\lib\\site-packages (from matplotlib!=3.0.0,>=2.0.2->yellowbrick) (3.0.8)\n",
      "Requirement already satisfied: joblib>=0.11 in c:\\users\\jnb\\appdata\\local\\programs\\python\\python39\\lib\\site-packages (from scikit-learn>=1.0.0->yellowbrick) (1.1.0)\n",
      "Requirement already satisfied: threadpoolctl>=2.0.0 in c:\\users\\jnb\\appdata\\local\\programs\\python\\python39\\lib\\site-packages (from scikit-learn>=1.0.0->yellowbrick) (3.1.0)\n",
      "Requirement already satisfied: six>=1.5 in c:\\users\\jnb\\appdata\\local\\programs\\python\\python39\\lib\\site-packages (from python-dateutil>=2.7->matplotlib!=3.0.0,>=2.0.2->yellowbrick) (1.16.0)\n"
     ]
    }
   ],
   "source": [
    "!pip install yellowbrick"
   ]
  },
  {
   "cell_type": "code",
   "execution_count": 16,
   "id": "8acdeb13",
   "metadata": {
    "scrolled": true
   },
   "outputs": [
    {
     "data": {
      "image/png": "[encoded data removed]",
      "text/plain": [
       "<Figure size 432x288 with 2 Axes>"
      ]
     },
     "metadata": {},
     "output_type": "display_data"
    },
    {
     "data": {
      "text/plain": [
       "<AxesSubplot:title={'center':'Distortion Score Elbow for KMeans Clustering'}, xlabel='k', ylabel='distortion score'>"
      ]
     },
     "execution_count": 16,
     "metadata": {},
     "output_type": "execute_result"
    }
   ],
   "source": [
    "# sse\n",
    "\n",
    "# Elbow Method for K means\n",
    "from yellowbrick.cluster import KElbowVisualizer\n",
    "model = KMeans()\n",
    "# k is range of number of clusters.\n",
    "visualizer = KElbowVisualizer(model, k=(1,10))\n",
    "visualizer.fit(df)        # Fit data to visualizer\n",
    "visualizer.show()        # Finalize and render figure"
   ]
  },
  {
   "cell_type": "code",
   "execution_count": 17,
   "id": "1097c92c",
   "metadata": {},
   "outputs": [
    {
     "data": {
      "text/plain": [
       "KMeans(n_clusters=3)"
      ]
     },
     "execution_count": 17,
     "metadata": {},
     "output_type": "execute_result"
    }
   ],
   "source": [
    "km = KMeans(n_clusters=3)\n",
    "km"
   ]
  },
  {
   "cell_type": "code",
   "execution_count": 18,
   "id": "8e88a152",
   "metadata": {},
   "outputs": [],
   "source": [
    "y_predicted = km.fit_predict(df[cols_to_norm])"
   ]
  },
  {
   "cell_type": "code",
   "execution_count": 19,
   "id": "d4988c69",
   "metadata": {},
   "outputs": [
    {
     "data": {
      "text/plain": [
       "(5420,)"
      ]
     },
     "execution_count": 19,
     "metadata": {},
     "output_type": "execute_result"
    }
   ],
   "source": [
    "y_predicted.shape"
   ]
  },
  {
   "cell_type": "code",
   "execution_count": 20,
   "id": "499319ca",
   "metadata": {},
   "outputs": [],
   "source": [
    "df['cluster'] = y_predicted"
   ]
  },
  {
   "cell_type": "code",
   "execution_count": 21,
   "id": "04b6389a",
   "metadata": {},
   "outputs": [
    {
     "data": {
      "text/html": [
       "<div>\n",
       "<style scoped>\n",
       "    .dataframe tbody tr th:only-of-type {\n",
       "        vertical-align: middle;\n",
       "    }\n",
       "\n",
       "    .dataframe tbody tr th {\n",
       "        vertical-align: top;\n",
       "    }\n",
       "\n",
       "    .dataframe thead th {\n",
       "        text-align: right;\n",
       "    }\n",
       "</style>\n",
       "<table border=\"1\" class=\"dataframe\">\n",
       "  <thead>\n",
       "    <tr style=\"text-align: right;\">\n",
       "      <th></th>\n",
       "      <th>appid</th>\n",
       "      <th>1980s</th>\n",
       "      <th>1990s</th>\n",
       "      <th>2.5d</th>\n",
       "      <th>2d</th>\n",
       "      <th>2d_fighter</th>\n",
       "      <th>360_video</th>\n",
       "      <th>3d</th>\n",
       "      <th>3d_platformer</th>\n",
       "      <th>3d_vision</th>\n",
       "      <th>...</th>\n",
       "      <th>web_publishing</th>\n",
       "      <th>werewolves</th>\n",
       "      <th>western</th>\n",
       "      <th>word_game</th>\n",
       "      <th>world_war_i</th>\n",
       "      <th>world_war_ii</th>\n",
       "      <th>wrestling</th>\n",
       "      <th>zombies</th>\n",
       "      <th>e_sports</th>\n",
       "      <th>cluster</th>\n",
       "    </tr>\n",
       "  </thead>\n",
       "  <tbody>\n",
       "    <tr>\n",
       "      <th>0</th>\n",
       "      <td>10</td>\n",
       "      <td>0.150943</td>\n",
       "      <td>1.000000</td>\n",
       "      <td>0.0</td>\n",
       "      <td>0.0</td>\n",
       "      <td>0.0</td>\n",
       "      <td>0.0</td>\n",
       "      <td>0.0</td>\n",
       "      <td>0.0</td>\n",
       "      <td>0.0</td>\n",
       "      <td>...</td>\n",
       "      <td>0.0</td>\n",
       "      <td>0.0</td>\n",
       "      <td>0.0</td>\n",
       "      <td>0.0</td>\n",
       "      <td>0.0</td>\n",
       "      <td>0.0</td>\n",
       "      <td>0.0</td>\n",
       "      <td>0.0</td>\n",
       "      <td>0.065429</td>\n",
       "      <td>0</td>\n",
       "    </tr>\n",
       "    <tr>\n",
       "      <th>1</th>\n",
       "      <td>20</td>\n",
       "      <td>0.000000</td>\n",
       "      <td>0.125887</td>\n",
       "      <td>0.0</td>\n",
       "      <td>0.0</td>\n",
       "      <td>0.0</td>\n",
       "      <td>0.0</td>\n",
       "      <td>0.0</td>\n",
       "      <td>0.0</td>\n",
       "      <td>0.0</td>\n",
       "      <td>...</td>\n",
       "      <td>0.0</td>\n",
       "      <td>0.0</td>\n",
       "      <td>0.0</td>\n",
       "      <td>0.0</td>\n",
       "      <td>0.0</td>\n",
       "      <td>0.0</td>\n",
       "      <td>0.0</td>\n",
       "      <td>0.0</td>\n",
       "      <td>0.000000</td>\n",
       "      <td>0</td>\n",
       "    </tr>\n",
       "  </tbody>\n",
       "</table>\n",
       "<p>2 rows × 367 columns</p>\n",
       "</div>"
      ],
      "text/plain": [
       "   appid     1980s     1990s  2.5d   2d  2d_fighter  360_video   3d  \\\n",
       "0     10  0.150943  1.000000   0.0  0.0         0.0        0.0  0.0   \n",
       "1     20  0.000000  0.125887   0.0  0.0         0.0        0.0  0.0   \n",
       "\n",
       "   3d_platformer  3d_vision  ...  web_publishing  werewolves  western  \\\n",
       "0            0.0        0.0  ...             0.0         0.0      0.0   \n",
       "1            0.0        0.0  ...             0.0         0.0      0.0   \n",
       "\n",
       "   word_game  world_war_i  world_war_ii  wrestling  zombies  e_sports  cluster  \n",
       "0        0.0          0.0           0.0        0.0      0.0  0.065429        0  \n",
       "1        0.0          0.0           0.0        0.0      0.0  0.000000        0  \n",
       "\n",
       "[2 rows x 367 columns]"
      ]
     },
     "execution_count": 21,
     "metadata": {},
     "output_type": "execute_result"
    }
   ],
   "source": [
    "df.head(2)"
   ]
  },
  {
   "cell_type": "code",
   "execution_count": 22,
   "id": "55646aa3",
   "metadata": {
    "scrolled": true
   },
   "outputs": [
    {
     "data": {
      "text/plain": [
       "0    5403\n",
       "2      10\n",
       "1       7\n",
       "Name: cluster, dtype: int64"
      ]
     },
     "execution_count": 22,
     "metadata": {},
     "output_type": "execute_result"
    }
   ],
   "source": [
    "df['cluster'].value_counts()"
   ]
  }
 ],
 "metadata": {
  "kernelspec": {
   "display_name": "Python 3 (ipykernel)",
   "language": "python",
   "name": "python3"
  },
  "language_info": {
   "codemirror_mode": {
    "name": "ipython",
    "version": 3
   },
   "file_extension": ".py",
   "mimetype": "text/x-python",
   "name": "python",
   "nbconvert_exporter": "python",
   "pygments_lexer": "ipython3",
   "version": "3.9.1"
  }
 },
 "nbformat": 4,
 "nbformat_minor": 5
}
