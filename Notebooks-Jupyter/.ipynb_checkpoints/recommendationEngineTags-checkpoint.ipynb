{
 "cells": [
  {
   "cell_type": "code",
   "execution_count": 1,
   "id": "25298de9",
   "metadata": {},
   "outputs": [],
   "source": [
    "import numpy as np\n",
    "import pandas as pd"
   ]
  },
  {
   "cell_type": "code",
   "execution_count": 2,
   "id": "85c3fc9e",
   "metadata": {},
   "outputs": [],
   "source": [
    "gameData = pd.read_csv('steam.csv')"
   ]
  },
  {
   "cell_type": "code",
   "execution_count": 3,
   "id": "3b90ba76",
   "metadata": {},
   "outputs": [
    {
     "data": {
      "text/html": [
       "<div>\n",
       "<style scoped>\n",
       "    .dataframe tbody tr th:only-of-type {\n",
       "        vertical-align: middle;\n",
       "    }\n",
       "\n",
       "    .dataframe tbody tr th {\n",
       "        vertical-align: top;\n",
       "    }\n",
       "\n",
       "    .dataframe thead th {\n",
       "        text-align: right;\n",
       "    }\n",
       "</style>\n",
       "<table border=\"1\" class=\"dataframe\">\n",
       "  <thead>\n",
       "    <tr style=\"text-align: right;\">\n",
       "      <th></th>\n",
       "      <th>appid</th>\n",
       "      <th>name</th>\n",
       "      <th>release_date</th>\n",
       "      <th>english</th>\n",
       "      <th>developer</th>\n",
       "      <th>publisher</th>\n",
       "      <th>platforms</th>\n",
       "      <th>required_age</th>\n",
       "      <th>categories</th>\n",
       "      <th>genres</th>\n",
       "      <th>steamspy_tags</th>\n",
       "      <th>achievements</th>\n",
       "      <th>positive_ratings</th>\n",
       "      <th>negative_ratings</th>\n",
       "      <th>average_playtime</th>\n",
       "      <th>median_playtime</th>\n",
       "      <th>owners</th>\n",
       "      <th>price</th>\n",
       "    </tr>\n",
       "  </thead>\n",
       "  <tbody>\n",
       "    <tr>\n",
       "      <th>0</th>\n",
       "      <td>10</td>\n",
       "      <td>Counter-Strike</td>\n",
       "      <td>2000-11-01</td>\n",
       "      <td>1</td>\n",
       "      <td>Valve</td>\n",
       "      <td>Valve</td>\n",
       "      <td>windows;mac;linux</td>\n",
       "      <td>0</td>\n",
       "      <td>Multi-player;Online Multi-Player;Local Multi-P...</td>\n",
       "      <td>Action</td>\n",
       "      <td>Action;FPS;Multiplayer</td>\n",
       "      <td>0</td>\n",
       "      <td>124534</td>\n",
       "      <td>3339</td>\n",
       "      <td>17612</td>\n",
       "      <td>317</td>\n",
       "      <td>10000000-20000000</td>\n",
       "      <td>7.19</td>\n",
       "    </tr>\n",
       "    <tr>\n",
       "      <th>1</th>\n",
       "      <td>20</td>\n",
       "      <td>Team Fortress Classic</td>\n",
       "      <td>1999-04-01</td>\n",
       "      <td>1</td>\n",
       "      <td>Valve</td>\n",
       "      <td>Valve</td>\n",
       "      <td>windows;mac;linux</td>\n",
       "      <td>0</td>\n",
       "      <td>Multi-player;Online Multi-Player;Local Multi-P...</td>\n",
       "      <td>Action</td>\n",
       "      <td>Action;FPS;Multiplayer</td>\n",
       "      <td>0</td>\n",
       "      <td>3318</td>\n",
       "      <td>633</td>\n",
       "      <td>277</td>\n",
       "      <td>62</td>\n",
       "      <td>5000000-10000000</td>\n",
       "      <td>3.99</td>\n",
       "    </tr>\n",
       "  </tbody>\n",
       "</table>\n",
       "</div>"
      ],
      "text/plain": [
       "   appid                   name release_date  english developer publisher  \\\n",
       "0     10         Counter-Strike   2000-11-01        1     Valve     Valve   \n",
       "1     20  Team Fortress Classic   1999-04-01        1     Valve     Valve   \n",
       "\n",
       "           platforms  required_age  \\\n",
       "0  windows;mac;linux             0   \n",
       "1  windows;mac;linux             0   \n",
       "\n",
       "                                          categories  genres  \\\n",
       "0  Multi-player;Online Multi-Player;Local Multi-P...  Action   \n",
       "1  Multi-player;Online Multi-Player;Local Multi-P...  Action   \n",
       "\n",
       "            steamspy_tags  achievements  positive_ratings  negative_ratings  \\\n",
       "0  Action;FPS;Multiplayer             0            124534              3339   \n",
       "1  Action;FPS;Multiplayer             0              3318               633   \n",
       "\n",
       "   average_playtime  median_playtime             owners  price  \n",
       "0             17612              317  10000000-20000000   7.19  \n",
       "1               277               62   5000000-10000000   3.99  "
      ]
     },
     "execution_count": 3,
     "metadata": {},
     "output_type": "execute_result"
    }
   ],
   "source": [
    "gameData.head(2)"
   ]
  },
  {
   "cell_type": "code",
   "execution_count": 4,
   "id": "5a15af1e",
   "metadata": {},
   "outputs": [],
   "source": [
    "gameDescription = pd.read_csv('steam_description_data.csv')"
   ]
  },
  {
   "cell_type": "code",
   "execution_count": 5,
   "id": "8ec52133",
   "metadata": {},
   "outputs": [
    {
     "data": {
      "text/html": [
       "<div>\n",
       "<style scoped>\n",
       "    .dataframe tbody tr th:only-of-type {\n",
       "        vertical-align: middle;\n",
       "    }\n",
       "\n",
       "    .dataframe tbody tr th {\n",
       "        vertical-align: top;\n",
       "    }\n",
       "\n",
       "    .dataframe thead th {\n",
       "        text-align: right;\n",
       "    }\n",
       "</style>\n",
       "<table border=\"1\" class=\"dataframe\">\n",
       "  <thead>\n",
       "    <tr style=\"text-align: right;\">\n",
       "      <th></th>\n",
       "      <th>steam_appid</th>\n",
       "      <th>detailed_description</th>\n",
       "      <th>about_the_game</th>\n",
       "      <th>short_description</th>\n",
       "    </tr>\n",
       "  </thead>\n",
       "  <tbody>\n",
       "    <tr>\n",
       "      <th>0</th>\n",
       "      <td>10</td>\n",
       "      <td>Play the world's number 1 online action game. ...</td>\n",
       "      <td>Play the world's number 1 online action game. ...</td>\n",
       "      <td>Play the world's number 1 online action game. ...</td>\n",
       "    </tr>\n",
       "    <tr>\n",
       "      <th>1</th>\n",
       "      <td>20</td>\n",
       "      <td>One of the most popular online action games of...</td>\n",
       "      <td>One of the most popular online action games of...</td>\n",
       "      <td>One of the most popular online action games of...</td>\n",
       "    </tr>\n",
       "  </tbody>\n",
       "</table>\n",
       "</div>"
      ],
      "text/plain": [
       "   steam_appid                               detailed_description  \\\n",
       "0           10  Play the world's number 1 online action game. ...   \n",
       "1           20  One of the most popular online action games of...   \n",
       "\n",
       "                                      about_the_game  \\\n",
       "0  Play the world's number 1 online action game. ...   \n",
       "1  One of the most popular online action games of...   \n",
       "\n",
       "                                   short_description  \n",
       "0  Play the world's number 1 online action game. ...  \n",
       "1  One of the most popular online action games of...  "
      ]
     },
     "execution_count": 5,
     "metadata": {},
     "output_type": "execute_result"
    }
   ],
   "source": [
    "gameDescription.head(2)"
   ]
  },
  {
   "cell_type": "code",
   "execution_count": 6,
   "id": "a7a776e0",
   "metadata": {},
   "outputs": [],
   "source": [
    "gameDescription.rename(columns = {'steam_appid':'appid'}, inplace = True)"
   ]
  },
  {
   "cell_type": "code",
   "execution_count": 7,
   "id": "640bc449",
   "metadata": {},
   "outputs": [],
   "source": [
    "gameData = gameData.merge(gameDescription, on='appid')"
   ]
  },
  {
   "cell_type": "code",
   "execution_count": 8,
   "id": "5ecdf4d1",
   "metadata": {},
   "outputs": [],
   "source": [
    "gameData.dropna(inplace=True)"
   ]
  },
  {
   "cell_type": "code",
   "execution_count": 9,
   "id": "32b88514",
   "metadata": {},
   "outputs": [
    {
     "data": {
      "text/plain": [
       "(27075, 21)"
      ]
     },
     "execution_count": 9,
     "metadata": {},
     "output_type": "execute_result"
    }
   ],
   "source": [
    "gameData.shape"
   ]
  },
  {
   "cell_type": "code",
   "execution_count": 10,
   "id": "72416c83",
   "metadata": {},
   "outputs": [
    {
     "data": {
      "text/plain": [
       "0"
      ]
     },
     "execution_count": 10,
     "metadata": {},
     "output_type": "execute_result"
    }
   ],
   "source": [
    "gameData.duplicated().sum()"
   ]
  },
  {
   "cell_type": "code",
   "execution_count": 11,
   "id": "76803541",
   "metadata": {},
   "outputs": [
    {
     "name": "stdout",
     "output_type": "stream",
     "text": [
      "<class 'pandas.core.frame.DataFrame'>\n",
      "Int64Index: 27075 entries, 0 to 27074\n",
      "Data columns (total 21 columns):\n",
      " #   Column                Non-Null Count  Dtype  \n",
      "---  ------                --------------  -----  \n",
      " 0   appid                 27075 non-null  int64  \n",
      " 1   name                  27075 non-null  object \n",
      " 2   release_date          27075 non-null  object \n",
      " 3   english               27075 non-null  int64  \n",
      " 4   developer             27075 non-null  object \n",
      " 5   publisher             27075 non-null  object \n",
      " 6   platforms             27075 non-null  object \n",
      " 7   required_age          27075 non-null  int64  \n",
      " 8   categories            27075 non-null  object \n",
      " 9   genres                27075 non-null  object \n",
      " 10  steamspy_tags         27075 non-null  object \n",
      " 11  achievements          27075 non-null  int64  \n",
      " 12  positive_ratings      27075 non-null  int64  \n",
      " 13  negative_ratings      27075 non-null  int64  \n",
      " 14  average_playtime      27075 non-null  int64  \n",
      " 15  median_playtime       27075 non-null  int64  \n",
      " 16  owners                27075 non-null  object \n",
      " 17  price                 27075 non-null  float64\n",
      " 18  detailed_description  27075 non-null  object \n",
      " 19  about_the_game        27075 non-null  object \n",
      " 20  short_description     27075 non-null  object \n",
      "dtypes: float64(1), int64(8), object(12)\n",
      "memory usage: 4.5+ MB\n"
     ]
    }
   ],
   "source": [
    "gameData.info()"
   ]
  },
  {
   "cell_type": "code",
   "execution_count": 12,
   "id": "87572883",
   "metadata": {},
   "outputs": [],
   "source": [
    "gameData = gameData[['appid', 'name', 'release_date', 'developer', 'categories', 'genres', 'steamspy_tags', 'short_description']]"
   ]
  },
  {
   "cell_type": "code",
   "execution_count": 13,
   "id": "49d72704",
   "metadata": {},
   "outputs": [],
   "source": [
    "def cleanDate(x):\n",
    "    return x[0:4]"
   ]
  },
  {
   "cell_type": "code",
   "execution_count": 14,
   "id": "0a1e051e",
   "metadata": {},
   "outputs": [],
   "source": [
    "gameData['release_date'] = gameData['release_date'].apply(cleanDate)"
   ]
  },
  {
   "cell_type": "code",
   "execution_count": 15,
   "id": "8ad92d82",
   "metadata": {
    "scrolled": true
   },
   "outputs": [
    {
     "data": {
      "text/html": [
       "<div>\n",
       "<style scoped>\n",
       "    .dataframe tbody tr th:only-of-type {\n",
       "        vertical-align: middle;\n",
       "    }\n",
       "\n",
       "    .dataframe tbody tr th {\n",
       "        vertical-align: top;\n",
       "    }\n",
       "\n",
       "    .dataframe thead th {\n",
       "        text-align: right;\n",
       "    }\n",
       "</style>\n",
       "<table border=\"1\" class=\"dataframe\">\n",
       "  <thead>\n",
       "    <tr style=\"text-align: right;\">\n",
       "      <th></th>\n",
       "      <th>appid</th>\n",
       "      <th>name</th>\n",
       "      <th>release_date</th>\n",
       "      <th>developer</th>\n",
       "      <th>categories</th>\n",
       "      <th>genres</th>\n",
       "      <th>steamspy_tags</th>\n",
       "      <th>short_description</th>\n",
       "    </tr>\n",
       "  </thead>\n",
       "  <tbody>\n",
       "    <tr>\n",
       "      <th>0</th>\n",
       "      <td>10</td>\n",
       "      <td>Counter-Strike</td>\n",
       "      <td>2000</td>\n",
       "      <td>Valve</td>\n",
       "      <td>Multi-player;Online Multi-Player;Local Multi-P...</td>\n",
       "      <td>Action</td>\n",
       "      <td>Action;FPS;Multiplayer</td>\n",
       "      <td>Play the world's number 1 online action game. ...</td>\n",
       "    </tr>\n",
       "    <tr>\n",
       "      <th>1</th>\n",
       "      <td>20</td>\n",
       "      <td>Team Fortress Classic</td>\n",
       "      <td>1999</td>\n",
       "      <td>Valve</td>\n",
       "      <td>Multi-player;Online Multi-Player;Local Multi-P...</td>\n",
       "      <td>Action</td>\n",
       "      <td>Action;FPS;Multiplayer</td>\n",
       "      <td>One of the most popular online action games of...</td>\n",
       "    </tr>\n",
       "  </tbody>\n",
       "</table>\n",
       "</div>"
      ],
      "text/plain": [
       "   appid                   name release_date developer  \\\n",
       "0     10         Counter-Strike         2000     Valve   \n",
       "1     20  Team Fortress Classic         1999     Valve   \n",
       "\n",
       "                                          categories  genres  \\\n",
       "0  Multi-player;Online Multi-Player;Local Multi-P...  Action   \n",
       "1  Multi-player;Online Multi-Player;Local Multi-P...  Action   \n",
       "\n",
       "            steamspy_tags                                  short_description  \n",
       "0  Action;FPS;Multiplayer  Play the world's number 1 online action game. ...  \n",
       "1  Action;FPS;Multiplayer  One of the most popular online action games of...  "
      ]
     },
     "execution_count": 15,
     "metadata": {},
     "output_type": "execute_result"
    }
   ],
   "source": [
    "gameData.head(2)"
   ]
  },
  {
   "cell_type": "code",
   "execution_count": 16,
   "id": "8243c39a",
   "metadata": {},
   "outputs": [],
   "source": [
    "gameData.rename(columns = {'release_date':'release_year'}, inplace = True)"
   ]
  },
  {
   "cell_type": "code",
   "execution_count": 17,
   "id": "b9574464",
   "metadata": {},
   "outputs": [],
   "source": [
    "# gameData['categories'].apply(lambda x:x.replace(\" \", \"-\"))\n",
    "# gameData['categories'].apply(lambda x:x.replace(\"-\", \"\"))\n",
    "# gameData['categories'].apply(lambda x:x.replace(\";\", \" \"))\n",
    "gameData['categories'] = gameData['categories'].apply(lambda x:x.split(';'))\n",
    "# gameData['categories'].apply(lambda x:x.lower())"
   ]
  },
  {
   "cell_type": "code",
   "execution_count": 18,
   "id": "dd77fb8d",
   "metadata": {},
   "outputs": [
    {
     "data": {
      "text/html": [
       "<div>\n",
       "<style scoped>\n",
       "    .dataframe tbody tr th:only-of-type {\n",
       "        vertical-align: middle;\n",
       "    }\n",
       "\n",
       "    .dataframe tbody tr th {\n",
       "        vertical-align: top;\n",
       "    }\n",
       "\n",
       "    .dataframe thead th {\n",
       "        text-align: right;\n",
       "    }\n",
       "</style>\n",
       "<table border=\"1\" class=\"dataframe\">\n",
       "  <thead>\n",
       "    <tr style=\"text-align: right;\">\n",
       "      <th></th>\n",
       "      <th>appid</th>\n",
       "      <th>name</th>\n",
       "      <th>release_year</th>\n",
       "      <th>developer</th>\n",
       "      <th>categories</th>\n",
       "      <th>genres</th>\n",
       "      <th>steamspy_tags</th>\n",
       "      <th>short_description</th>\n",
       "    </tr>\n",
       "  </thead>\n",
       "  <tbody>\n",
       "    <tr>\n",
       "      <th>0</th>\n",
       "      <td>10</td>\n",
       "      <td>Counter-Strike</td>\n",
       "      <td>2000</td>\n",
       "      <td>Valve</td>\n",
       "      <td>[Multi-player, Online Multi-Player, Local Mult...</td>\n",
       "      <td>Action</td>\n",
       "      <td>Action;FPS;Multiplayer</td>\n",
       "      <td>Play the world's number 1 online action game. ...</td>\n",
       "    </tr>\n",
       "    <tr>\n",
       "      <th>1</th>\n",
       "      <td>20</td>\n",
       "      <td>Team Fortress Classic</td>\n",
       "      <td>1999</td>\n",
       "      <td>Valve</td>\n",
       "      <td>[Multi-player, Online Multi-Player, Local Mult...</td>\n",
       "      <td>Action</td>\n",
       "      <td>Action;FPS;Multiplayer</td>\n",
       "      <td>One of the most popular online action games of...</td>\n",
       "    </tr>\n",
       "  </tbody>\n",
       "</table>\n",
       "</div>"
      ],
      "text/plain": [
       "   appid                   name release_year developer  \\\n",
       "0     10         Counter-Strike         2000     Valve   \n",
       "1     20  Team Fortress Classic         1999     Valve   \n",
       "\n",
       "                                          categories  genres  \\\n",
       "0  [Multi-player, Online Multi-Player, Local Mult...  Action   \n",
       "1  [Multi-player, Online Multi-Player, Local Mult...  Action   \n",
       "\n",
       "            steamspy_tags                                  short_description  \n",
       "0  Action;FPS;Multiplayer  Play the world's number 1 online action game. ...  \n",
       "1  Action;FPS;Multiplayer  One of the most popular online action games of...  "
      ]
     },
     "execution_count": 18,
     "metadata": {},
     "output_type": "execute_result"
    }
   ],
   "source": [
    "gameData.head(2)"
   ]
  },
  {
   "cell_type": "code",
   "execution_count": 19,
   "id": "093b7ebc",
   "metadata": {},
   "outputs": [],
   "source": [
    "gameData['genres'] = gameData['genres'].apply(lambda x:x.split(';'))\n",
    "gameData['steamspy_tags'] = gameData['steamspy_tags'].apply(lambda x:x.split(';'))"
   ]
  },
  {
   "cell_type": "code",
   "execution_count": 20,
   "id": "3aa597d0",
   "metadata": {},
   "outputs": [],
   "source": [
    "gameData['categories'] = gameData['categories'].apply(lambda x:[i.replace(\" \", \"-\") for i in x])\n",
    "gameData['genres'] = gameData['genres'].apply(lambda x:[i.replace(\" \", \"-\") for i in x])\n",
    "gameData['steamspy_tags'] = gameData['steamspy_tags'].apply(lambda x:[i.replace(\" \", \"-\") for i in x])"
   ]
  },
  {
   "cell_type": "code",
   "execution_count": 21,
   "id": "5c0906e1",
   "metadata": {},
   "outputs": [],
   "source": [
    "gameData['short_description'] = gameData['short_description'].apply(lambda x:x.split())"
   ]
  },
  {
   "cell_type": "code",
   "execution_count": 22,
   "id": "5e326368",
   "metadata": {},
   "outputs": [],
   "source": [
    "gameData['categories'] = gameData['categories'].apply(lambda x:[i.lower() for i in x])\n",
    "gameData['genres'] = gameData['genres'].apply(lambda x:[i.lower() for i in x])\n",
    "gameData['steamspy_tags'] = gameData['steamspy_tags'].apply(lambda x:[i.lower() for i in x])"
   ]
  },
  {
   "cell_type": "code",
   "execution_count": 23,
   "id": "1490932b",
   "metadata": {},
   "outputs": [
    {
     "data": {
      "text/html": [
       "<div>\n",
       "<style scoped>\n",
       "    .dataframe tbody tr th:only-of-type {\n",
       "        vertical-align: middle;\n",
       "    }\n",
       "\n",
       "    .dataframe tbody tr th {\n",
       "        vertical-align: top;\n",
       "    }\n",
       "\n",
       "    .dataframe thead th {\n",
       "        text-align: right;\n",
       "    }\n",
       "</style>\n",
       "<table border=\"1\" class=\"dataframe\">\n",
       "  <thead>\n",
       "    <tr style=\"text-align: right;\">\n",
       "      <th></th>\n",
       "      <th>appid</th>\n",
       "      <th>name</th>\n",
       "      <th>release_year</th>\n",
       "      <th>developer</th>\n",
       "      <th>categories</th>\n",
       "      <th>genres</th>\n",
       "      <th>steamspy_tags</th>\n",
       "      <th>short_description</th>\n",
       "    </tr>\n",
       "  </thead>\n",
       "  <tbody>\n",
       "    <tr>\n",
       "      <th>0</th>\n",
       "      <td>10</td>\n",
       "      <td>Counter-Strike</td>\n",
       "      <td>2000</td>\n",
       "      <td>Valve</td>\n",
       "      <td>[multi-player, online-multi-player, local-mult...</td>\n",
       "      <td>[action]</td>\n",
       "      <td>[action, fps, multiplayer]</td>\n",
       "      <td>[Play, the, world's, number, 1, online, action...</td>\n",
       "    </tr>\n",
       "    <tr>\n",
       "      <th>1</th>\n",
       "      <td>20</td>\n",
       "      <td>Team Fortress Classic</td>\n",
       "      <td>1999</td>\n",
       "      <td>Valve</td>\n",
       "      <td>[multi-player, online-multi-player, local-mult...</td>\n",
       "      <td>[action]</td>\n",
       "      <td>[action, fps, multiplayer]</td>\n",
       "      <td>[One, of, the, most, popular, online, action, ...</td>\n",
       "    </tr>\n",
       "  </tbody>\n",
       "</table>\n",
       "</div>"
      ],
      "text/plain": [
       "   appid                   name release_year developer  \\\n",
       "0     10         Counter-Strike         2000     Valve   \n",
       "1     20  Team Fortress Classic         1999     Valve   \n",
       "\n",
       "                                          categories    genres  \\\n",
       "0  [multi-player, online-multi-player, local-mult...  [action]   \n",
       "1  [multi-player, online-multi-player, local-mult...  [action]   \n",
       "\n",
       "                steamspy_tags  \\\n",
       "0  [action, fps, multiplayer]   \n",
       "1  [action, fps, multiplayer]   \n",
       "\n",
       "                                   short_description  \n",
       "0  [Play, the, world's, number, 1, online, action...  \n",
       "1  [One, of, the, most, popular, online, action, ...  "
      ]
     },
     "execution_count": 23,
     "metadata": {},
     "output_type": "execute_result"
    }
   ],
   "source": [
    "gameData.head(2)"
   ]
  },
  {
   "cell_type": "code",
   "execution_count": 24,
   "id": "b7f1d227",
   "metadata": {},
   "outputs": [],
   "source": [
    "gameData['developer'] = gameData['developer'].apply(lambda x:x.lower())\n",
    "gameData['short_description'] = gameData['short_description'].apply(lambda x:[i.lower() for i in x])"
   ]
  },
  {
   "cell_type": "code",
   "execution_count": 25,
   "id": "3e2b8b8c",
   "metadata": {},
   "outputs": [
    {
     "data": {
      "text/html": [
       "<div>\n",
       "<style scoped>\n",
       "    .dataframe tbody tr th:only-of-type {\n",
       "        vertical-align: middle;\n",
       "    }\n",
       "\n",
       "    .dataframe tbody tr th {\n",
       "        vertical-align: top;\n",
       "    }\n",
       "\n",
       "    .dataframe thead th {\n",
       "        text-align: right;\n",
       "    }\n",
       "</style>\n",
       "<table border=\"1\" class=\"dataframe\">\n",
       "  <thead>\n",
       "    <tr style=\"text-align: right;\">\n",
       "      <th></th>\n",
       "      <th>appid</th>\n",
       "      <th>name</th>\n",
       "      <th>release_year</th>\n",
       "      <th>developer</th>\n",
       "      <th>categories</th>\n",
       "      <th>genres</th>\n",
       "      <th>steamspy_tags</th>\n",
       "      <th>short_description</th>\n",
       "    </tr>\n",
       "  </thead>\n",
       "  <tbody>\n",
       "    <tr>\n",
       "      <th>0</th>\n",
       "      <td>10</td>\n",
       "      <td>Counter-Strike</td>\n",
       "      <td>2000</td>\n",
       "      <td>valve</td>\n",
       "      <td>[multi-player, online-multi-player, local-mult...</td>\n",
       "      <td>[action]</td>\n",
       "      <td>[action, fps, multiplayer]</td>\n",
       "      <td>[play, the, world's, number, 1, online, action...</td>\n",
       "    </tr>\n",
       "    <tr>\n",
       "      <th>1</th>\n",
       "      <td>20</td>\n",
       "      <td>Team Fortress Classic</td>\n",
       "      <td>1999</td>\n",
       "      <td>valve</td>\n",
       "      <td>[multi-player, online-multi-player, local-mult...</td>\n",
       "      <td>[action]</td>\n",
       "      <td>[action, fps, multiplayer]</td>\n",
       "      <td>[one, of, the, most, popular, online, action, ...</td>\n",
       "    </tr>\n",
       "  </tbody>\n",
       "</table>\n",
       "</div>"
      ],
      "text/plain": [
       "   appid                   name release_year developer  \\\n",
       "0     10         Counter-Strike         2000     valve   \n",
       "1     20  Team Fortress Classic         1999     valve   \n",
       "\n",
       "                                          categories    genres  \\\n",
       "0  [multi-player, online-multi-player, local-mult...  [action]   \n",
       "1  [multi-player, online-multi-player, local-mult...  [action]   \n",
       "\n",
       "                steamspy_tags  \\\n",
       "0  [action, fps, multiplayer]   \n",
       "1  [action, fps, multiplayer]   \n",
       "\n",
       "                                   short_description  \n",
       "0  [play, the, world's, number, 1, online, action...  \n",
       "1  [one, of, the, most, popular, online, action, ...  "
      ]
     },
     "execution_count": 25,
     "metadata": {},
     "output_type": "execute_result"
    }
   ],
   "source": [
    "gameData.head(2)"
   ]
  },
  {
   "cell_type": "code",
   "execution_count": 26,
   "id": "2cfa515e",
   "metadata": {},
   "outputs": [],
   "source": [
    "gameData['tags'] = (gameData['categories'] + gameData['genres'] + gameData['steamspy_tags'])"
   ]
  },
  {
   "cell_type": "code",
   "execution_count": 27,
   "id": "43ec3fe8",
   "metadata": {},
   "outputs": [
    {
     "data": {
      "text/html": [
       "<div>\n",
       "<style scoped>\n",
       "    .dataframe tbody tr th:only-of-type {\n",
       "        vertical-align: middle;\n",
       "    }\n",
       "\n",
       "    .dataframe tbody tr th {\n",
       "        vertical-align: top;\n",
       "    }\n",
       "\n",
       "    .dataframe thead th {\n",
       "        text-align: right;\n",
       "    }\n",
       "</style>\n",
       "<table border=\"1\" class=\"dataframe\">\n",
       "  <thead>\n",
       "    <tr style=\"text-align: right;\">\n",
       "      <th></th>\n",
       "      <th>appid</th>\n",
       "      <th>name</th>\n",
       "      <th>release_year</th>\n",
       "      <th>developer</th>\n",
       "      <th>categories</th>\n",
       "      <th>genres</th>\n",
       "      <th>steamspy_tags</th>\n",
       "      <th>short_description</th>\n",
       "      <th>tags</th>\n",
       "    </tr>\n",
       "  </thead>\n",
       "  <tbody>\n",
       "    <tr>\n",
       "      <th>0</th>\n",
       "      <td>10</td>\n",
       "      <td>Counter-Strike</td>\n",
       "      <td>2000</td>\n",
       "      <td>valve</td>\n",
       "      <td>[multi-player, online-multi-player, local-mult...</td>\n",
       "      <td>[action]</td>\n",
       "      <td>[action, fps, multiplayer]</td>\n",
       "      <td>[play, the, world's, number, 1, online, action...</td>\n",
       "      <td>[multi-player, online-multi-player, local-mult...</td>\n",
       "    </tr>\n",
       "    <tr>\n",
       "      <th>1</th>\n",
       "      <td>20</td>\n",
       "      <td>Team Fortress Classic</td>\n",
       "      <td>1999</td>\n",
       "      <td>valve</td>\n",
       "      <td>[multi-player, online-multi-player, local-mult...</td>\n",
       "      <td>[action]</td>\n",
       "      <td>[action, fps, multiplayer]</td>\n",
       "      <td>[one, of, the, most, popular, online, action, ...</td>\n",
       "      <td>[multi-player, online-multi-player, local-mult...</td>\n",
       "    </tr>\n",
       "  </tbody>\n",
       "</table>\n",
       "</div>"
      ],
      "text/plain": [
       "   appid                   name release_year developer  \\\n",
       "0     10         Counter-Strike         2000     valve   \n",
       "1     20  Team Fortress Classic         1999     valve   \n",
       "\n",
       "                                          categories    genres  \\\n",
       "0  [multi-player, online-multi-player, local-mult...  [action]   \n",
       "1  [multi-player, online-multi-player, local-mult...  [action]   \n",
       "\n",
       "                steamspy_tags  \\\n",
       "0  [action, fps, multiplayer]   \n",
       "1  [action, fps, multiplayer]   \n",
       "\n",
       "                                   short_description  \\\n",
       "0  [play, the, world's, number, 1, online, action...   \n",
       "1  [one, of, the, most, popular, online, action, ...   \n",
       "\n",
       "                                                tags  \n",
       "0  [multi-player, online-multi-player, local-mult...  \n",
       "1  [multi-player, online-multi-player, local-mult...  "
      ]
     },
     "execution_count": 27,
     "metadata": {},
     "output_type": "execute_result"
    }
   ],
   "source": [
    "gameData.head(2)"
   ]
  },
  {
   "cell_type": "code",
   "execution_count": 28,
   "id": "d69177ad",
   "metadata": {},
   "outputs": [],
   "source": [
    "gameData['tags'] = (gameData['short_description'] + gameData['tags'])"
   ]
  },
  {
   "cell_type": "code",
   "execution_count": 29,
   "id": "0dd557e7",
   "metadata": {},
   "outputs": [],
   "source": [
    "gameData['developer'] = gameData['developer'].apply(lambda x:[x.replace(\" \", \"-\").lower()])"
   ]
  },
  {
   "cell_type": "code",
   "execution_count": 30,
   "id": "59c61e69",
   "metadata": {},
   "outputs": [],
   "source": [
    "gameData['tags'] = gameData['release_year'].apply(lambda x:[x]) + gameData['tags']"
   ]
  },
  {
   "cell_type": "code",
   "execution_count": 31,
   "id": "02f5e172",
   "metadata": {},
   "outputs": [],
   "source": [
    "processed_df = gameData[['appid', 'name', 'tags']]"
   ]
  },
  {
   "cell_type": "code",
   "execution_count": 32,
   "id": "927801a2",
   "metadata": {},
   "outputs": [
    {
     "name": "stderr",
     "output_type": "stream",
     "text": [
      "C:\\Users\\JNB\\AppData\\Local\\Temp\\ipykernel_19152\\1835730776.py:1: SettingWithCopyWarning: \n",
      "A value is trying to be set on a copy of a slice from a DataFrame.\n",
      "Try using .loc[row_indexer,col_indexer] = value instead\n",
      "\n",
      "See the caveats in the documentation: https://pandas.pydata.org/pandas-docs/stable/user_guide/indexing.html#returning-a-view-versus-a-copy\n",
      "  processed_df['tags'] = processed_df['tags'].apply(lambda x:' '.join(x))\n"
     ]
    }
   ],
   "source": [
    "processed_df['tags'] = processed_df['tags'].apply(lambda x:' '.join(x))"
   ]
  },
  {
   "cell_type": "code",
   "execution_count": 33,
   "id": "a29d3b54",
   "metadata": {
    "scrolled": true
   },
   "outputs": [
    {
     "data": {
      "text/html": [
       "<div>\n",
       "<style scoped>\n",
       "    .dataframe tbody tr th:only-of-type {\n",
       "        vertical-align: middle;\n",
       "    }\n",
       "\n",
       "    .dataframe tbody tr th {\n",
       "        vertical-align: top;\n",
       "    }\n",
       "\n",
       "    .dataframe thead th {\n",
       "        text-align: right;\n",
       "    }\n",
       "</style>\n",
       "<table border=\"1\" class=\"dataframe\">\n",
       "  <thead>\n",
       "    <tr style=\"text-align: right;\">\n",
       "      <th></th>\n",
       "      <th>appid</th>\n",
       "      <th>name</th>\n",
       "      <th>tags</th>\n",
       "    </tr>\n",
       "  </thead>\n",
       "  <tbody>\n",
       "    <tr>\n",
       "      <th>0</th>\n",
       "      <td>10</td>\n",
       "      <td>Counter-Strike</td>\n",
       "      <td>2000 play the world's number 1 online action g...</td>\n",
       "    </tr>\n",
       "  </tbody>\n",
       "</table>\n",
       "</div>"
      ],
      "text/plain": [
       "   appid            name                                               tags\n",
       "0     10  Counter-Strike  2000 play the world's number 1 online action g..."
      ]
     },
     "execution_count": 33,
     "metadata": {},
     "output_type": "execute_result"
    }
   ],
   "source": [
    "processed_df.head(1)"
   ]
  },
  {
   "cell_type": "code",
   "execution_count": 34,
   "id": "05bc2430",
   "metadata": {},
   "outputs": [],
   "source": [
    "import nltk"
   ]
  },
  {
   "cell_type": "code",
   "execution_count": 35,
   "id": "98c7472b",
   "metadata": {},
   "outputs": [],
   "source": [
    "from nltk.stem.porter import PorterStemmer\n",
    "ps = PorterStemmer()"
   ]
  },
  {
   "cell_type": "code",
   "execution_count": 36,
   "id": "a51c3c7d",
   "metadata": {},
   "outputs": [],
   "source": [
    "def stem(text):\n",
    "    y = []\n",
    "    for i in text.split():\n",
    "        y.append(ps.stem(i))\n",
    "    return \" \".join(y)"
   ]
  },
  {
   "cell_type": "code",
   "execution_count": 37,
   "id": "8ec552ca",
   "metadata": {
    "scrolled": true
   },
   "outputs": [
    {
     "name": "stderr",
     "output_type": "stream",
     "text": [
      "C:\\Users\\JNB\\AppData\\Local\\Temp\\ipykernel_19152\\1584161107.py:1: SettingWithCopyWarning: \n",
      "A value is trying to be set on a copy of a slice from a DataFrame.\n",
      "Try using .loc[row_indexer,col_indexer] = value instead\n",
      "\n",
      "See the caveats in the documentation: https://pandas.pydata.org/pandas-docs/stable/user_guide/indexing.html#returning-a-view-versus-a-copy\n",
      "  processed_df['tags'] = processed_df['tags'].apply(lambda x:stem(x))\n"
     ]
    }
   ],
   "source": [
    "processed_df['tags'] = processed_df['tags'].apply(lambda x:stem(x))"
   ]
  },
  {
   "cell_type": "code",
   "execution_count": 38,
   "id": "5ced5f73",
   "metadata": {
    "scrolled": true
   },
   "outputs": [
    {
     "data": {
      "text/html": [
       "<div>\n",
       "<style scoped>\n",
       "    .dataframe tbody tr th:only-of-type {\n",
       "        vertical-align: middle;\n",
       "    }\n",
       "\n",
       "    .dataframe tbody tr th {\n",
       "        vertical-align: top;\n",
       "    }\n",
       "\n",
       "    .dataframe thead th {\n",
       "        text-align: right;\n",
       "    }\n",
       "</style>\n",
       "<table border=\"1\" class=\"dataframe\">\n",
       "  <thead>\n",
       "    <tr style=\"text-align: right;\">\n",
       "      <th></th>\n",
       "      <th>appid</th>\n",
       "      <th>name</th>\n",
       "      <th>tags</th>\n",
       "    </tr>\n",
       "  </thead>\n",
       "  <tbody>\n",
       "    <tr>\n",
       "      <th>0</th>\n",
       "      <td>10</td>\n",
       "      <td>Counter-Strike</td>\n",
       "      <td>2000 play the world' number 1 onlin action gam...</td>\n",
       "    </tr>\n",
       "    <tr>\n",
       "      <th>1</th>\n",
       "      <td>20</td>\n",
       "      <td>Team Fortress Classic</td>\n",
       "      <td>1999 one of the most popular onlin action game...</td>\n",
       "    </tr>\n",
       "    <tr>\n",
       "      <th>2</th>\n",
       "      <td>30</td>\n",
       "      <td>Day of Defeat</td>\n",
       "      <td>2003 enlist in an intens brand of axi vs. alli...</td>\n",
       "    </tr>\n",
       "    <tr>\n",
       "      <th>3</th>\n",
       "      <td>40</td>\n",
       "      <td>Deathmatch Classic</td>\n",
       "      <td>2001 enjoy fast-pac multiplay game with deathm...</td>\n",
       "    </tr>\n",
       "    <tr>\n",
       "      <th>4</th>\n",
       "      <td>50</td>\n",
       "      <td>Half-Life: Opposing Force</td>\n",
       "      <td>1999 return to the black mesa research facil a...</td>\n",
       "    </tr>\n",
       "  </tbody>\n",
       "</table>\n",
       "</div>"
      ],
      "text/plain": [
       "   appid                       name  \\\n",
       "0     10             Counter-Strike   \n",
       "1     20      Team Fortress Classic   \n",
       "2     30              Day of Defeat   \n",
       "3     40         Deathmatch Classic   \n",
       "4     50  Half-Life: Opposing Force   \n",
       "\n",
       "                                                tags  \n",
       "0  2000 play the world' number 1 onlin action gam...  \n",
       "1  1999 one of the most popular onlin action game...  \n",
       "2  2003 enlist in an intens brand of axi vs. alli...  \n",
       "3  2001 enjoy fast-pac multiplay game with deathm...  \n",
       "4  1999 return to the black mesa research facil a...  "
      ]
     },
     "execution_count": 38,
     "metadata": {},
     "output_type": "execute_result"
    }
   ],
   "source": [
    "processed_df.head(5)"
   ]
  },
  {
   "cell_type": "code",
   "execution_count": 39,
   "id": "281042f5",
   "metadata": {},
   "outputs": [],
   "source": [
    "from sklearn.feature_extraction.text import CountVectorizer\n",
    "cv = CountVectorizer(max_features=5000, stop_words='english')"
   ]
  },
  {
   "cell_type": "code",
   "execution_count": 40,
   "id": "ea37ae2b",
   "metadata": {},
   "outputs": [],
   "source": [
    "vectors = cv.fit_transform(processed_df['tags']).toarray()"
   ]
  },
  {
   "cell_type": "code",
   "execution_count": 41,
   "id": "3fcc9c53",
   "metadata": {},
   "outputs": [],
   "source": [
    "from sklearn.metrics.pairwise import cosine_similarity"
   ]
  },
  {
   "cell_type": "code",
   "execution_count": 42,
   "id": "497db6e1",
   "metadata": {},
   "outputs": [],
   "source": [
    "similarity = cosine_similarity(vectors)"
   ]
  },
  {
   "cell_type": "code",
   "execution_count": 43,
   "id": "5a282a51",
   "metadata": {},
   "outputs": [
    {
     "data": {
      "text/plain": [
       "2"
      ]
     },
     "execution_count": 43,
     "metadata": {},
     "output_type": "execute_result"
    }
   ],
   "source": [
    "processed_df[processed_df['name'] == 'Day of Defeat'].index[0]"
   ]
  },
  {
   "cell_type": "code",
   "execution_count": 44,
   "id": "6dc14a41",
   "metadata": {},
   "outputs": [],
   "source": [
    "def recommend(game):\n",
    "    game_index = processed_df[processed_df['name'] == game]\n",
    "    if game_index.shape[0] == 0:\n",
    "        print(\"No Game Found\")\n",
    "        return\n",
    "    game_index = game_index.index[0]\n",
    "    distances = similarity[game_index]\n",
    "    game_list = sorted(list(enumerate(distances)), reverse=True, key=lambda x:x[1])[1:11]\n",
    "    \n",
    "    for i in game_list:\n",
    "        print(processed_df.iloc[i[0]]['name'])"
   ]
  },
  {
   "cell_type": "code",
   "execution_count": 46,
   "id": "e49ab9b4",
   "metadata": {
    "scrolled": true
   },
   "outputs": [
    {
     "name": "stdout",
     "output_type": "stream",
     "text": [
      "Deathmatch Classic\n",
      "Ricochet\n",
      "Operation Breakout\n",
      "Call of Duty®: Modern Warfare® 2\n",
      "CLASH\n",
      "ClickRaid\n",
      "Line of Sight\n",
      "World of Virtual Reality VR\n",
      "Call of Duty®: Infinite Warfare\n",
      "Depth\n"
     ]
    }
   ],
   "source": [
    "recommend('Half-Life')"
   ]
  }
 ],
 "metadata": {
  "kernelspec": {
   "display_name": "Python 3 (ipykernel)",
   "language": "python",
   "name": "python3"
  },
  "language_info": {
   "codemirror_mode": {
    "name": "ipython",
    "version": 3
   },
   "file_extension": ".py",
   "mimetype": "text/x-python",
   "name": "python",
   "nbconvert_exporter": "python",
   "pygments_lexer": "ipython3",
   "version": "3.9.1"
  }
 },
 "nbformat": 4,
 "nbformat_minor": 5
}
